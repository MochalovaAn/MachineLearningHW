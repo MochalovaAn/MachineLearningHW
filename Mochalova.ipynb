{
 "cells": [
  {
   "cell_type": "markdown",
   "id": "249184b6",
   "metadata": {},
   "source": [
    "1. Title: Депрессия\n",
    "\n",
    "2. Sources:\n",
    "   (a) Origin:  This dataset is a subset of the https://www.kaggle.com/francispython/b-depression\n",
    "   (b) Creator: Frankcc (https://www.kaggle.com/francispython)\n",
    "\n",
    "\n",
    "3. Relevant Information:\n",
    "   Набор данных участвует в анализе депрессии. \n",
    "   Данные представляли собой исследование условий жизни людей, проживающих в сельских районах.\n",
    "   Цель исследования - определелить закономерность между условиями жизни и наличием депресии\n",
    "\n",
    "4. Number of Instances: 1432\n",
    "\n",
    "5. Number of Attributes: 23 (including the class attribute)\n",
    "\n",
    "6. Attribute Information:\n",
    "\t1. Идентификатор человека (Survey_ID) - (numberical) \n",
    "\t2. Идентификатор населенного пункта(Ville_id) - (numerical)   \n",
    "\t3. Пол (sex) - (categorical) 1 - male , 0 - female\n",
    "\t4. Возраст (Age) - (numerical)\n",
    "\t5. Семейный статус (Married) - (categorical) 1 - married, 0 - not married\n",
    "\t6. Число детей (Number_children) - (numerical)\n",
    "\t7. Уровень образования(education_level) - (numerical) - 0 -very low, 14 - very hight\n",
    "\t8. Число членов семьи (total_members) - (numerical)\n",
    "\t9. Активный доход (gained_asset) - (numerical)\n",
    "    10.Пассивный доход (durable_asset) - (numerical)\n",
    "\t11.Сбережения (save_asset) - (numerical)\n",
    "\t12.Расходы на проживание (living_expenses) - (numerical)\n",
    "\t13.Прочие расходы (other_expenses) - (numerical)\n",
    "\t14.Доход - зарплата (incoming_salary) - (categorical) - 0 - no, 1 - yes\n",
    "\t15.Доход - собственная ферма (incoming_own_farm)- (categorical) - 0 - no, 1 - yes\n",
    "\t16.Доход - собственный бизнес (incoming_business) - (categorical) - 0 - no, 1 - yes\n",
    "\t17.Доход - не бизнес (incoming_no_business) - (categorical) - 0 - no, 1 - yes\n",
    "\t18.Доход - сельскохозяйственный (incoming_agricultural) - (numerical)\n",
    "\t19.Содержание фермы(farm_expenses) - (numerical)\n",
    "\t20.Основная работа (labor_primary )- (categorical) - 0 - no, 1 - yes\n",
    "\t21.Долгосрочные инвестиции (lasting_investment) - (numerical)\n",
    "\t22.Краткосрочный инвестиции (no_lasting_investmen) - (numerical)\n",
    "    23.Депрессияdepressed: [ Zero: No depressed] or [One: depressed] \n",
    "7. Missing Attribute Values: Yes\n"
   ]
  },
  {
   "cell_type": "markdown",
   "id": "42f0c59b",
   "metadata": {},
   "source": [
    "Поставлена следующая задача классификации:\n",
    "\n",
    "Необходимо предсказать, к какому из двух состояний человек предрасположен."
   ]
  },
  {
   "cell_type": "markdown",
   "id": "f48f105b",
   "metadata": {},
   "source": [
    "**Чтение данных**"
   ]
  },
  {
   "cell_type": "code",
   "execution_count": 1,
   "id": "ffa7aaa1",
   "metadata": {},
   "outputs": [],
   "source": [
    "import numpy as np\n",
    "import matplotlib.pyplot as plt\n",
    "import pandas as pd\n",
    "import seaborn as sns\n",
    "import sklearn\n",
    "from sklearn.neighbors import KNeighborsClassifier\n",
    "from sklearn.model_selection import GridSearchCV\n",
    "from sklearn.svm import SVC\n",
    "from sklearn import ensemble\n",
    "from sklearn.neural_network import MLPClassifier\n",
    "from sklearn.metrics import accuracy_score\n",
    "import warnings\n",
    "warnings.filterwarnings('ignore')\n",
    "%matplotlib inline"
   ]
  },
  {
   "cell_type": "code",
   "execution_count": 2,
   "id": "0bc192b9",
   "metadata": {
    "scrolled": true
   },
   "outputs": [],
   "source": [
    "path = 'D:\\depressed.csv'\n",
    "data = pd.read_csv(path)"
   ]
  },
  {
   "cell_type": "markdown",
   "id": "760e0353",
   "metadata": {},
   "source": [
    "Таблица и ее размеры"
   ]
  },
  {
   "cell_type": "code",
   "execution_count": 3,
   "id": "418024be",
   "metadata": {
    "scrolled": true
   },
   "outputs": [
    {
     "data": {
      "text/html": [
       "<div>\n",
       "<style scoped>\n",
       "    .dataframe tbody tr th:only-of-type {\n",
       "        vertical-align: middle;\n",
       "    }\n",
       "\n",
       "    .dataframe tbody tr th {\n",
       "        vertical-align: top;\n",
       "    }\n",
       "\n",
       "    .dataframe thead th {\n",
       "        text-align: right;\n",
       "    }\n",
       "</style>\n",
       "<table border=\"1\" class=\"dataframe\">\n",
       "  <thead>\n",
       "    <tr style=\"text-align: right;\">\n",
       "      <th></th>\n",
       "      <th>Survey_id</th>\n",
       "      <th>Ville_id</th>\n",
       "      <th>sex</th>\n",
       "      <th>Age</th>\n",
       "      <th>Married</th>\n",
       "      <th>Number_children</th>\n",
       "      <th>education_level</th>\n",
       "      <th>total_members</th>\n",
       "      <th>gained_asset</th>\n",
       "      <th>durable_asset</th>\n",
       "      <th>...</th>\n",
       "      <th>incoming_salary</th>\n",
       "      <th>incoming_own_farm</th>\n",
       "      <th>incoming_business</th>\n",
       "      <th>incoming_no_business</th>\n",
       "      <th>incoming_agricultural</th>\n",
       "      <th>farm_expenses</th>\n",
       "      <th>labor_primary</th>\n",
       "      <th>lasting_investment</th>\n",
       "      <th>no_lasting_investmen</th>\n",
       "      <th>depressed</th>\n",
       "    </tr>\n",
       "  </thead>\n",
       "  <tbody>\n",
       "    <tr>\n",
       "      <th>0</th>\n",
       "      <td>926</td>\n",
       "      <td>91</td>\n",
       "      <td>1</td>\n",
       "      <td>28</td>\n",
       "      <td>1</td>\n",
       "      <td>4</td>\n",
       "      <td>10</td>\n",
       "      <td>5</td>\n",
       "      <td>28912201</td>\n",
       "      <td>22861940</td>\n",
       "      <td>...</td>\n",
       "      <td>0</td>\n",
       "      <td>0</td>\n",
       "      <td>0</td>\n",
       "      <td>0</td>\n",
       "      <td>30028818</td>\n",
       "      <td>31363432</td>\n",
       "      <td>0</td>\n",
       "      <td>28411718</td>\n",
       "      <td>28292707.0</td>\n",
       "      <td>0</td>\n",
       "    </tr>\n",
       "    <tr>\n",
       "      <th>1</th>\n",
       "      <td>747</td>\n",
       "      <td>57</td>\n",
       "      <td>1</td>\n",
       "      <td>23</td>\n",
       "      <td>1</td>\n",
       "      <td>3</td>\n",
       "      <td>8</td>\n",
       "      <td>5</td>\n",
       "      <td>28912201</td>\n",
       "      <td>22861940</td>\n",
       "      <td>...</td>\n",
       "      <td>0</td>\n",
       "      <td>0</td>\n",
       "      <td>0</td>\n",
       "      <td>0</td>\n",
       "      <td>30028818</td>\n",
       "      <td>31363432</td>\n",
       "      <td>0</td>\n",
       "      <td>28411718</td>\n",
       "      <td>28292707.0</td>\n",
       "      <td>1</td>\n",
       "    </tr>\n",
       "    <tr>\n",
       "      <th>2</th>\n",
       "      <td>1190</td>\n",
       "      <td>115</td>\n",
       "      <td>1</td>\n",
       "      <td>22</td>\n",
       "      <td>1</td>\n",
       "      <td>3</td>\n",
       "      <td>9</td>\n",
       "      <td>5</td>\n",
       "      <td>28912201</td>\n",
       "      <td>22861940</td>\n",
       "      <td>...</td>\n",
       "      <td>0</td>\n",
       "      <td>0</td>\n",
       "      <td>0</td>\n",
       "      <td>0</td>\n",
       "      <td>30028818</td>\n",
       "      <td>31363432</td>\n",
       "      <td>0</td>\n",
       "      <td>28411718</td>\n",
       "      <td>28292707.0</td>\n",
       "      <td>0</td>\n",
       "    </tr>\n",
       "    <tr>\n",
       "      <th>3</th>\n",
       "      <td>1065</td>\n",
       "      <td>97</td>\n",
       "      <td>1</td>\n",
       "      <td>27</td>\n",
       "      <td>1</td>\n",
       "      <td>2</td>\n",
       "      <td>10</td>\n",
       "      <td>4</td>\n",
       "      <td>52667108</td>\n",
       "      <td>19698904</td>\n",
       "      <td>...</td>\n",
       "      <td>0</td>\n",
       "      <td>1</td>\n",
       "      <td>0</td>\n",
       "      <td>1</td>\n",
       "      <td>22288055</td>\n",
       "      <td>18751329</td>\n",
       "      <td>0</td>\n",
       "      <td>7781123</td>\n",
       "      <td>69219765.0</td>\n",
       "      <td>0</td>\n",
       "    </tr>\n",
       "    <tr>\n",
       "      <th>4</th>\n",
       "      <td>806</td>\n",
       "      <td>42</td>\n",
       "      <td>0</td>\n",
       "      <td>59</td>\n",
       "      <td>0</td>\n",
       "      <td>4</td>\n",
       "      <td>10</td>\n",
       "      <td>6</td>\n",
       "      <td>82606287</td>\n",
       "      <td>17352654</td>\n",
       "      <td>...</td>\n",
       "      <td>1</td>\n",
       "      <td>0</td>\n",
       "      <td>0</td>\n",
       "      <td>0</td>\n",
       "      <td>53384566</td>\n",
       "      <td>20731006</td>\n",
       "      <td>1</td>\n",
       "      <td>20100562</td>\n",
       "      <td>43419447.0</td>\n",
       "      <td>0</td>\n",
       "    </tr>\n",
       "    <tr>\n",
       "      <th>...</th>\n",
       "      <td>...</td>\n",
       "      <td>...</td>\n",
       "      <td>...</td>\n",
       "      <td>...</td>\n",
       "      <td>...</td>\n",
       "      <td>...</td>\n",
       "      <td>...</td>\n",
       "      <td>...</td>\n",
       "      <td>...</td>\n",
       "      <td>...</td>\n",
       "      <td>...</td>\n",
       "      <td>...</td>\n",
       "      <td>...</td>\n",
       "      <td>...</td>\n",
       "      <td>...</td>\n",
       "      <td>...</td>\n",
       "      <td>...</td>\n",
       "      <td>...</td>\n",
       "      <td>...</td>\n",
       "      <td>...</td>\n",
       "      <td>...</td>\n",
       "    </tr>\n",
       "    <tr>\n",
       "      <th>1424</th>\n",
       "      <td>255</td>\n",
       "      <td>22</td>\n",
       "      <td>1</td>\n",
       "      <td>25</td>\n",
       "      <td>1</td>\n",
       "      <td>1</td>\n",
       "      <td>7</td>\n",
       "      <td>5</td>\n",
       "      <td>28912201</td>\n",
       "      <td>22861940</td>\n",
       "      <td>...</td>\n",
       "      <td>0</td>\n",
       "      <td>0</td>\n",
       "      <td>0</td>\n",
       "      <td>0</td>\n",
       "      <td>30028818</td>\n",
       "      <td>31363432</td>\n",
       "      <td>0</td>\n",
       "      <td>28411718</td>\n",
       "      <td>28292707.0</td>\n",
       "      <td>0</td>\n",
       "    </tr>\n",
       "    <tr>\n",
       "      <th>1425</th>\n",
       "      <td>547</td>\n",
       "      <td>69</td>\n",
       "      <td>1</td>\n",
       "      <td>28</td>\n",
       "      <td>1</td>\n",
       "      <td>4</td>\n",
       "      <td>10</td>\n",
       "      <td>6</td>\n",
       "      <td>15711078</td>\n",
       "      <td>24023054</td>\n",
       "      <td>...</td>\n",
       "      <td>0</td>\n",
       "      <td>1</td>\n",
       "      <td>0</td>\n",
       "      <td>0</td>\n",
       "      <td>23022095</td>\n",
       "      <td>1021536</td>\n",
       "      <td>0</td>\n",
       "      <td>1823477</td>\n",
       "      <td>47384361.0</td>\n",
       "      <td>0</td>\n",
       "    </tr>\n",
       "    <tr>\n",
       "      <th>1426</th>\n",
       "      <td>893</td>\n",
       "      <td>184</td>\n",
       "      <td>1</td>\n",
       "      <td>66</td>\n",
       "      <td>0</td>\n",
       "      <td>0</td>\n",
       "      <td>1</td>\n",
       "      <td>1</td>\n",
       "      <td>42440731</td>\n",
       "      <td>22861940</td>\n",
       "      <td>...</td>\n",
       "      <td>0</td>\n",
       "      <td>1</td>\n",
       "      <td>0</td>\n",
       "      <td>0</td>\n",
       "      <td>12545373</td>\n",
       "      <td>10454478</td>\n",
       "      <td>0</td>\n",
       "      <td>46444572</td>\n",
       "      <td>10454478.0</td>\n",
       "      <td>1</td>\n",
       "    </tr>\n",
       "    <tr>\n",
       "      <th>1427</th>\n",
       "      <td>363</td>\n",
       "      <td>75</td>\n",
       "      <td>1</td>\n",
       "      <td>51</td>\n",
       "      <td>1</td>\n",
       "      <td>1</td>\n",
       "      <td>12</td>\n",
       "      <td>5</td>\n",
       "      <td>28912201</td>\n",
       "      <td>22861940</td>\n",
       "      <td>...</td>\n",
       "      <td>0</td>\n",
       "      <td>0</td>\n",
       "      <td>0</td>\n",
       "      <td>0</td>\n",
       "      <td>30028818</td>\n",
       "      <td>31363432</td>\n",
       "      <td>0</td>\n",
       "      <td>28411718</td>\n",
       "      <td>28292707.0</td>\n",
       "      <td>0</td>\n",
       "    </tr>\n",
       "    <tr>\n",
       "      <th>1428</th>\n",
       "      <td>231</td>\n",
       "      <td>12</td>\n",
       "      <td>1</td>\n",
       "      <td>33</td>\n",
       "      <td>0</td>\n",
       "      <td>4</td>\n",
       "      <td>8</td>\n",
       "      <td>5</td>\n",
       "      <td>81678391</td>\n",
       "      <td>22861940</td>\n",
       "      <td>...</td>\n",
       "      <td>0</td>\n",
       "      <td>1</td>\n",
       "      <td>0</td>\n",
       "      <td>1</td>\n",
       "      <td>20019212</td>\n",
       "      <td>16682677</td>\n",
       "      <td>0</td>\n",
       "      <td>69642126</td>\n",
       "      <td>13012488.0</td>\n",
       "      <td>0</td>\n",
       "    </tr>\n",
       "  </tbody>\n",
       "</table>\n",
       "<p>1429 rows × 23 columns</p>\n",
       "</div>"
      ],
      "text/plain": [
       "      Survey_id  Ville_id  sex  Age  Married  Number_children  \\\n",
       "0           926        91    1   28        1                4   \n",
       "1           747        57    1   23        1                3   \n",
       "2          1190       115    1   22        1                3   \n",
       "3          1065        97    1   27        1                2   \n",
       "4           806        42    0   59        0                4   \n",
       "...         ...       ...  ...  ...      ...              ...   \n",
       "1424        255        22    1   25        1                1   \n",
       "1425        547        69    1   28        1                4   \n",
       "1426        893       184    1   66        0                0   \n",
       "1427        363        75    1   51        1                1   \n",
       "1428        231        12    1   33        0                4   \n",
       "\n",
       "      education_level  total_members  gained_asset  durable_asset  ...  \\\n",
       "0                  10              5      28912201       22861940  ...   \n",
       "1                   8              5      28912201       22861940  ...   \n",
       "2                   9              5      28912201       22861940  ...   \n",
       "3                  10              4      52667108       19698904  ...   \n",
       "4                  10              6      82606287       17352654  ...   \n",
       "...               ...            ...           ...            ...  ...   \n",
       "1424                7              5      28912201       22861940  ...   \n",
       "1425               10              6      15711078       24023054  ...   \n",
       "1426                1              1      42440731       22861940  ...   \n",
       "1427               12              5      28912201       22861940  ...   \n",
       "1428                8              5      81678391       22861940  ...   \n",
       "\n",
       "      incoming_salary  incoming_own_farm  incoming_business  \\\n",
       "0                   0                  0                  0   \n",
       "1                   0                  0                  0   \n",
       "2                   0                  0                  0   \n",
       "3                   0                  1                  0   \n",
       "4                   1                  0                  0   \n",
       "...               ...                ...                ...   \n",
       "1424                0                  0                  0   \n",
       "1425                0                  1                  0   \n",
       "1426                0                  1                  0   \n",
       "1427                0                  0                  0   \n",
       "1428                0                  1                  0   \n",
       "\n",
       "      incoming_no_business  incoming_agricultural  farm_expenses  \\\n",
       "0                        0               30028818       31363432   \n",
       "1                        0               30028818       31363432   \n",
       "2                        0               30028818       31363432   \n",
       "3                        1               22288055       18751329   \n",
       "4                        0               53384566       20731006   \n",
       "...                    ...                    ...            ...   \n",
       "1424                     0               30028818       31363432   \n",
       "1425                     0               23022095        1021536   \n",
       "1426                     0               12545373       10454478   \n",
       "1427                     0               30028818       31363432   \n",
       "1428                     1               20019212       16682677   \n",
       "\n",
       "      labor_primary  lasting_investment  no_lasting_investmen  depressed  \n",
       "0                 0            28411718            28292707.0          0  \n",
       "1                 0            28411718            28292707.0          1  \n",
       "2                 0            28411718            28292707.0          0  \n",
       "3                 0             7781123            69219765.0          0  \n",
       "4                 1            20100562            43419447.0          0  \n",
       "...             ...                 ...                   ...        ...  \n",
       "1424              0            28411718            28292707.0          0  \n",
       "1425              0             1823477            47384361.0          0  \n",
       "1426              0            46444572            10454478.0          1  \n",
       "1427              0            28411718            28292707.0          0  \n",
       "1428              0            69642126            13012488.0          0  \n",
       "\n",
       "[1429 rows x 23 columns]"
      ]
     },
     "execution_count": 3,
     "metadata": {},
     "output_type": "execute_result"
    }
   ],
   "source": [
    "data"
   ]
  },
  {
   "cell_type": "markdown",
   "id": "12e9c5b6",
   "metadata": {},
   "source": [
    "Рассмотрим начало и конец датасета"
   ]
  },
  {
   "cell_type": "code",
   "execution_count": 4,
   "id": "ee810f11",
   "metadata": {
    "scrolled": true
   },
   "outputs": [
    {
     "data": {
      "text/html": [
       "<div>\n",
       "<style scoped>\n",
       "    .dataframe tbody tr th:only-of-type {\n",
       "        vertical-align: middle;\n",
       "    }\n",
       "\n",
       "    .dataframe tbody tr th {\n",
       "        vertical-align: top;\n",
       "    }\n",
       "\n",
       "    .dataframe thead th {\n",
       "        text-align: right;\n",
       "    }\n",
       "</style>\n",
       "<table border=\"1\" class=\"dataframe\">\n",
       "  <thead>\n",
       "    <tr style=\"text-align: right;\">\n",
       "      <th></th>\n",
       "      <th>Survey_id</th>\n",
       "      <th>Ville_id</th>\n",
       "      <th>sex</th>\n",
       "      <th>Age</th>\n",
       "      <th>Married</th>\n",
       "      <th>Number_children</th>\n",
       "      <th>education_level</th>\n",
       "      <th>total_members</th>\n",
       "      <th>gained_asset</th>\n",
       "      <th>durable_asset</th>\n",
       "      <th>...</th>\n",
       "      <th>incoming_salary</th>\n",
       "      <th>incoming_own_farm</th>\n",
       "      <th>incoming_business</th>\n",
       "      <th>incoming_no_business</th>\n",
       "      <th>incoming_agricultural</th>\n",
       "      <th>farm_expenses</th>\n",
       "      <th>labor_primary</th>\n",
       "      <th>lasting_investment</th>\n",
       "      <th>no_lasting_investmen</th>\n",
       "      <th>depressed</th>\n",
       "    </tr>\n",
       "  </thead>\n",
       "  <tbody>\n",
       "    <tr>\n",
       "      <th>0</th>\n",
       "      <td>926</td>\n",
       "      <td>91</td>\n",
       "      <td>1</td>\n",
       "      <td>28</td>\n",
       "      <td>1</td>\n",
       "      <td>4</td>\n",
       "      <td>10</td>\n",
       "      <td>5</td>\n",
       "      <td>28912201</td>\n",
       "      <td>22861940</td>\n",
       "      <td>...</td>\n",
       "      <td>0</td>\n",
       "      <td>0</td>\n",
       "      <td>0</td>\n",
       "      <td>0</td>\n",
       "      <td>30028818</td>\n",
       "      <td>31363432</td>\n",
       "      <td>0</td>\n",
       "      <td>28411718</td>\n",
       "      <td>28292707.0</td>\n",
       "      <td>0</td>\n",
       "    </tr>\n",
       "    <tr>\n",
       "      <th>1</th>\n",
       "      <td>747</td>\n",
       "      <td>57</td>\n",
       "      <td>1</td>\n",
       "      <td>23</td>\n",
       "      <td>1</td>\n",
       "      <td>3</td>\n",
       "      <td>8</td>\n",
       "      <td>5</td>\n",
       "      <td>28912201</td>\n",
       "      <td>22861940</td>\n",
       "      <td>...</td>\n",
       "      <td>0</td>\n",
       "      <td>0</td>\n",
       "      <td>0</td>\n",
       "      <td>0</td>\n",
       "      <td>30028818</td>\n",
       "      <td>31363432</td>\n",
       "      <td>0</td>\n",
       "      <td>28411718</td>\n",
       "      <td>28292707.0</td>\n",
       "      <td>1</td>\n",
       "    </tr>\n",
       "    <tr>\n",
       "      <th>2</th>\n",
       "      <td>1190</td>\n",
       "      <td>115</td>\n",
       "      <td>1</td>\n",
       "      <td>22</td>\n",
       "      <td>1</td>\n",
       "      <td>3</td>\n",
       "      <td>9</td>\n",
       "      <td>5</td>\n",
       "      <td>28912201</td>\n",
       "      <td>22861940</td>\n",
       "      <td>...</td>\n",
       "      <td>0</td>\n",
       "      <td>0</td>\n",
       "      <td>0</td>\n",
       "      <td>0</td>\n",
       "      <td>30028818</td>\n",
       "      <td>31363432</td>\n",
       "      <td>0</td>\n",
       "      <td>28411718</td>\n",
       "      <td>28292707.0</td>\n",
       "      <td>0</td>\n",
       "    </tr>\n",
       "    <tr>\n",
       "      <th>3</th>\n",
       "      <td>1065</td>\n",
       "      <td>97</td>\n",
       "      <td>1</td>\n",
       "      <td>27</td>\n",
       "      <td>1</td>\n",
       "      <td>2</td>\n",
       "      <td>10</td>\n",
       "      <td>4</td>\n",
       "      <td>52667108</td>\n",
       "      <td>19698904</td>\n",
       "      <td>...</td>\n",
       "      <td>0</td>\n",
       "      <td>1</td>\n",
       "      <td>0</td>\n",
       "      <td>1</td>\n",
       "      <td>22288055</td>\n",
       "      <td>18751329</td>\n",
       "      <td>0</td>\n",
       "      <td>7781123</td>\n",
       "      <td>69219765.0</td>\n",
       "      <td>0</td>\n",
       "    </tr>\n",
       "    <tr>\n",
       "      <th>4</th>\n",
       "      <td>806</td>\n",
       "      <td>42</td>\n",
       "      <td>0</td>\n",
       "      <td>59</td>\n",
       "      <td>0</td>\n",
       "      <td>4</td>\n",
       "      <td>10</td>\n",
       "      <td>6</td>\n",
       "      <td>82606287</td>\n",
       "      <td>17352654</td>\n",
       "      <td>...</td>\n",
       "      <td>1</td>\n",
       "      <td>0</td>\n",
       "      <td>0</td>\n",
       "      <td>0</td>\n",
       "      <td>53384566</td>\n",
       "      <td>20731006</td>\n",
       "      <td>1</td>\n",
       "      <td>20100562</td>\n",
       "      <td>43419447.0</td>\n",
       "      <td>0</td>\n",
       "    </tr>\n",
       "  </tbody>\n",
       "</table>\n",
       "<p>5 rows × 23 columns</p>\n",
       "</div>"
      ],
      "text/plain": [
       "   Survey_id  Ville_id  sex  Age  Married  Number_children  education_level  \\\n",
       "0        926        91    1   28        1                4               10   \n",
       "1        747        57    1   23        1                3                8   \n",
       "2       1190       115    1   22        1                3                9   \n",
       "3       1065        97    1   27        1                2               10   \n",
       "4        806        42    0   59        0                4               10   \n",
       "\n",
       "   total_members  gained_asset  durable_asset  ...  incoming_salary  \\\n",
       "0              5      28912201       22861940  ...                0   \n",
       "1              5      28912201       22861940  ...                0   \n",
       "2              5      28912201       22861940  ...                0   \n",
       "3              4      52667108       19698904  ...                0   \n",
       "4              6      82606287       17352654  ...                1   \n",
       "\n",
       "   incoming_own_farm  incoming_business  incoming_no_business  \\\n",
       "0                  0                  0                     0   \n",
       "1                  0                  0                     0   \n",
       "2                  0                  0                     0   \n",
       "3                  1                  0                     1   \n",
       "4                  0                  0                     0   \n",
       "\n",
       "   incoming_agricultural  farm_expenses  labor_primary  lasting_investment  \\\n",
       "0               30028818       31363432              0            28411718   \n",
       "1               30028818       31363432              0            28411718   \n",
       "2               30028818       31363432              0            28411718   \n",
       "3               22288055       18751329              0             7781123   \n",
       "4               53384566       20731006              1            20100562   \n",
       "\n",
       "   no_lasting_investmen  depressed  \n",
       "0            28292707.0          0  \n",
       "1            28292707.0          1  \n",
       "2            28292707.0          0  \n",
       "3            69219765.0          0  \n",
       "4            43419447.0          0  \n",
       "\n",
       "[5 rows x 23 columns]"
      ]
     },
     "execution_count": 4,
     "metadata": {},
     "output_type": "execute_result"
    }
   ],
   "source": [
    "data.head()"
   ]
  },
  {
   "cell_type": "code",
   "execution_count": 5,
   "id": "db78a1ca",
   "metadata": {},
   "outputs": [
    {
     "data": {
      "text/html": [
       "<div>\n",
       "<style scoped>\n",
       "    .dataframe tbody tr th:only-of-type {\n",
       "        vertical-align: middle;\n",
       "    }\n",
       "\n",
       "    .dataframe tbody tr th {\n",
       "        vertical-align: top;\n",
       "    }\n",
       "\n",
       "    .dataframe thead th {\n",
       "        text-align: right;\n",
       "    }\n",
       "</style>\n",
       "<table border=\"1\" class=\"dataframe\">\n",
       "  <thead>\n",
       "    <tr style=\"text-align: right;\">\n",
       "      <th></th>\n",
       "      <th>Survey_id</th>\n",
       "      <th>Ville_id</th>\n",
       "      <th>sex</th>\n",
       "      <th>Age</th>\n",
       "      <th>Married</th>\n",
       "      <th>Number_children</th>\n",
       "      <th>education_level</th>\n",
       "      <th>total_members</th>\n",
       "      <th>gained_asset</th>\n",
       "      <th>durable_asset</th>\n",
       "      <th>...</th>\n",
       "      <th>incoming_salary</th>\n",
       "      <th>incoming_own_farm</th>\n",
       "      <th>incoming_business</th>\n",
       "      <th>incoming_no_business</th>\n",
       "      <th>incoming_agricultural</th>\n",
       "      <th>farm_expenses</th>\n",
       "      <th>labor_primary</th>\n",
       "      <th>lasting_investment</th>\n",
       "      <th>no_lasting_investmen</th>\n",
       "      <th>depressed</th>\n",
       "    </tr>\n",
       "  </thead>\n",
       "  <tbody>\n",
       "    <tr>\n",
       "      <th>1424</th>\n",
       "      <td>255</td>\n",
       "      <td>22</td>\n",
       "      <td>1</td>\n",
       "      <td>25</td>\n",
       "      <td>1</td>\n",
       "      <td>1</td>\n",
       "      <td>7</td>\n",
       "      <td>5</td>\n",
       "      <td>28912201</td>\n",
       "      <td>22861940</td>\n",
       "      <td>...</td>\n",
       "      <td>0</td>\n",
       "      <td>0</td>\n",
       "      <td>0</td>\n",
       "      <td>0</td>\n",
       "      <td>30028818</td>\n",
       "      <td>31363432</td>\n",
       "      <td>0</td>\n",
       "      <td>28411718</td>\n",
       "      <td>28292707.0</td>\n",
       "      <td>0</td>\n",
       "    </tr>\n",
       "    <tr>\n",
       "      <th>1425</th>\n",
       "      <td>547</td>\n",
       "      <td>69</td>\n",
       "      <td>1</td>\n",
       "      <td>28</td>\n",
       "      <td>1</td>\n",
       "      <td>4</td>\n",
       "      <td>10</td>\n",
       "      <td>6</td>\n",
       "      <td>15711078</td>\n",
       "      <td>24023054</td>\n",
       "      <td>...</td>\n",
       "      <td>0</td>\n",
       "      <td>1</td>\n",
       "      <td>0</td>\n",
       "      <td>0</td>\n",
       "      <td>23022095</td>\n",
       "      <td>1021536</td>\n",
       "      <td>0</td>\n",
       "      <td>1823477</td>\n",
       "      <td>47384361.0</td>\n",
       "      <td>0</td>\n",
       "    </tr>\n",
       "    <tr>\n",
       "      <th>1426</th>\n",
       "      <td>893</td>\n",
       "      <td>184</td>\n",
       "      <td>1</td>\n",
       "      <td>66</td>\n",
       "      <td>0</td>\n",
       "      <td>0</td>\n",
       "      <td>1</td>\n",
       "      <td>1</td>\n",
       "      <td>42440731</td>\n",
       "      <td>22861940</td>\n",
       "      <td>...</td>\n",
       "      <td>0</td>\n",
       "      <td>1</td>\n",
       "      <td>0</td>\n",
       "      <td>0</td>\n",
       "      <td>12545373</td>\n",
       "      <td>10454478</td>\n",
       "      <td>0</td>\n",
       "      <td>46444572</td>\n",
       "      <td>10454478.0</td>\n",
       "      <td>1</td>\n",
       "    </tr>\n",
       "    <tr>\n",
       "      <th>1427</th>\n",
       "      <td>363</td>\n",
       "      <td>75</td>\n",
       "      <td>1</td>\n",
       "      <td>51</td>\n",
       "      <td>1</td>\n",
       "      <td>1</td>\n",
       "      <td>12</td>\n",
       "      <td>5</td>\n",
       "      <td>28912201</td>\n",
       "      <td>22861940</td>\n",
       "      <td>...</td>\n",
       "      <td>0</td>\n",
       "      <td>0</td>\n",
       "      <td>0</td>\n",
       "      <td>0</td>\n",
       "      <td>30028818</td>\n",
       "      <td>31363432</td>\n",
       "      <td>0</td>\n",
       "      <td>28411718</td>\n",
       "      <td>28292707.0</td>\n",
       "      <td>0</td>\n",
       "    </tr>\n",
       "    <tr>\n",
       "      <th>1428</th>\n",
       "      <td>231</td>\n",
       "      <td>12</td>\n",
       "      <td>1</td>\n",
       "      <td>33</td>\n",
       "      <td>0</td>\n",
       "      <td>4</td>\n",
       "      <td>8</td>\n",
       "      <td>5</td>\n",
       "      <td>81678391</td>\n",
       "      <td>22861940</td>\n",
       "      <td>...</td>\n",
       "      <td>0</td>\n",
       "      <td>1</td>\n",
       "      <td>0</td>\n",
       "      <td>1</td>\n",
       "      <td>20019212</td>\n",
       "      <td>16682677</td>\n",
       "      <td>0</td>\n",
       "      <td>69642126</td>\n",
       "      <td>13012488.0</td>\n",
       "      <td>0</td>\n",
       "    </tr>\n",
       "  </tbody>\n",
       "</table>\n",
       "<p>5 rows × 23 columns</p>\n",
       "</div>"
      ],
      "text/plain": [
       "      Survey_id  Ville_id  sex  Age  Married  Number_children  \\\n",
       "1424        255        22    1   25        1                1   \n",
       "1425        547        69    1   28        1                4   \n",
       "1426        893       184    1   66        0                0   \n",
       "1427        363        75    1   51        1                1   \n",
       "1428        231        12    1   33        0                4   \n",
       "\n",
       "      education_level  total_members  gained_asset  durable_asset  ...  \\\n",
       "1424                7              5      28912201       22861940  ...   \n",
       "1425               10              6      15711078       24023054  ...   \n",
       "1426                1              1      42440731       22861940  ...   \n",
       "1427               12              5      28912201       22861940  ...   \n",
       "1428                8              5      81678391       22861940  ...   \n",
       "\n",
       "      incoming_salary  incoming_own_farm  incoming_business  \\\n",
       "1424                0                  0                  0   \n",
       "1425                0                  1                  0   \n",
       "1426                0                  1                  0   \n",
       "1427                0                  0                  0   \n",
       "1428                0                  1                  0   \n",
       "\n",
       "      incoming_no_business  incoming_agricultural  farm_expenses  \\\n",
       "1424                     0               30028818       31363432   \n",
       "1425                     0               23022095        1021536   \n",
       "1426                     0               12545373       10454478   \n",
       "1427                     0               30028818       31363432   \n",
       "1428                     1               20019212       16682677   \n",
       "\n",
       "      labor_primary  lasting_investment  no_lasting_investmen  depressed  \n",
       "1424              0            28411718            28292707.0          0  \n",
       "1425              0             1823477            47384361.0          0  \n",
       "1426              0            46444572            10454478.0          1  \n",
       "1427              0            28411718            28292707.0          0  \n",
       "1428              0            69642126            13012488.0          0  \n",
       "\n",
       "[5 rows x 23 columns]"
      ]
     },
     "execution_count": 5,
     "metadata": {},
     "output_type": "execute_result"
    }
   ],
   "source": [
    "data.tail()"
   ]
  },
  {
   "cell_type": "markdown",
   "id": "9a1311d5",
   "metadata": {},
   "source": [
    "Посмотрим более подробно на данные датасета:"
   ]
  },
  {
   "cell_type": "code",
   "execution_count": 6,
   "id": "c6caf14f",
   "metadata": {
    "scrolled": true
   },
   "outputs": [
    {
     "name": "stdout",
     "output_type": "stream",
     "text": [
      "<class 'pandas.core.frame.DataFrame'>\n",
      "RangeIndex: 1429 entries, 0 to 1428\n",
      "Data columns (total 23 columns):\n",
      " #   Column                 Non-Null Count  Dtype  \n",
      "---  ------                 --------------  -----  \n",
      " 0   Survey_id              1429 non-null   int64  \n",
      " 1   Ville_id               1429 non-null   int64  \n",
      " 2   sex                    1429 non-null   int64  \n",
      " 3   Age                    1429 non-null   int64  \n",
      " 4   Married                1429 non-null   int64  \n",
      " 5   Number_children        1429 non-null   int64  \n",
      " 6   education_level        1429 non-null   int64  \n",
      " 7   total_members          1429 non-null   int64  \n",
      " 8   gained_asset           1429 non-null   int64  \n",
      " 9   durable_asset          1429 non-null   int64  \n",
      " 10  save_asset             1429 non-null   int64  \n",
      " 11  living_expenses        1429 non-null   int64  \n",
      " 12  other_expenses         1429 non-null   int64  \n",
      " 13  incoming_salary        1429 non-null   int64  \n",
      " 14  incoming_own_farm      1429 non-null   int64  \n",
      " 15  incoming_business      1429 non-null   int64  \n",
      " 16  incoming_no_business   1429 non-null   int64  \n",
      " 17  incoming_agricultural  1429 non-null   int64  \n",
      " 18  farm_expenses          1429 non-null   int64  \n",
      " 19  labor_primary          1429 non-null   int64  \n",
      " 20  lasting_investment     1429 non-null   int64  \n",
      " 21  no_lasting_investmen   1409 non-null   float64\n",
      " 22  depressed              1429 non-null   int64  \n",
      "dtypes: float64(1), int64(22)\n",
      "memory usage: 256.9 KB\n"
     ]
    }
   ],
   "source": [
    "data.info()"
   ]
  },
  {
   "cell_type": "markdown",
   "id": "1f10bbc9",
   "metadata": {},
   "source": [
    "Можно заметить следующее:\n",
    "\n",
    "    1. Первые два признака не имеют веса, поэтому можно от них избавиться\n",
    "    2. Пропущенных значений есть (no_lasting_investmen)\n",
    "    3. Все признаки уже количественные (Изначально в датасете уже была проведена обработка категориальных признаков)\n",
    "    4. Многие столбцы содержат категориальные значения, но имеют тип 'int64'. Заменим данный тип на специальный, предназначенный для хранения категориальных значений."
   ]
  },
  {
   "cell_type": "code",
   "execution_count": 7,
   "id": "dd3f496f",
   "metadata": {},
   "outputs": [],
   "source": [
    "categorical_indexes = [2, 4, 13, 14, 15, 16, 19]\n",
    "data.iloc[:,2] = data.iloc[:,2].astype('category')\n",
    "data.iloc[:,4] = data.iloc[:,4].astype('category')\n",
    "data.iloc[:,13] = data.iloc[:,13].astype('category')\n",
    "data.iloc[:,14] = data.iloc[:,14].astype('category')\n",
    "data.iloc[:,15] = data.iloc[:,15].astype('category')\n",
    "data.iloc[:,16] = data.iloc[:,16].astype('category')\n",
    "data.iloc[:,19] = data.iloc[:,19].astype('category')\n",
    "\n",
    "data = data.drop(data.iloc[:,[0, 1]], axis = 1)"
   ]
  },
  {
   "cell_type": "code",
   "execution_count": 8,
   "id": "442a76c9",
   "metadata": {},
   "outputs": [
    {
     "name": "stdout",
     "output_type": "stream",
     "text": [
      "<class 'pandas.core.frame.DataFrame'>\n",
      "RangeIndex: 1429 entries, 0 to 1428\n",
      "Data columns (total 21 columns):\n",
      " #   Column                 Non-Null Count  Dtype   \n",
      "---  ------                 --------------  -----   \n",
      " 0   sex                    1429 non-null   category\n",
      " 1   Age                    1429 non-null   int64   \n",
      " 2   Married                1429 non-null   category\n",
      " 3   Number_children        1429 non-null   int64   \n",
      " 4   education_level        1429 non-null   int64   \n",
      " 5   total_members          1429 non-null   int64   \n",
      " 6   gained_asset           1429 non-null   int64   \n",
      " 7   durable_asset          1429 non-null   int64   \n",
      " 8   save_asset             1429 non-null   int64   \n",
      " 9   living_expenses        1429 non-null   int64   \n",
      " 10  other_expenses         1429 non-null   int64   \n",
      " 11  incoming_salary        1429 non-null   category\n",
      " 12  incoming_own_farm      1429 non-null   category\n",
      " 13  incoming_business      1429 non-null   category\n",
      " 14  incoming_no_business   1429 non-null   category\n",
      " 15  incoming_agricultural  1429 non-null   int64   \n",
      " 16  farm_expenses          1429 non-null   int64   \n",
      " 17  labor_primary          1429 non-null   category\n",
      " 18  lasting_investment     1429 non-null   int64   \n",
      " 19  no_lasting_investmen   1409 non-null   float64 \n",
      " 20  depressed              1429 non-null   int64   \n",
      "dtypes: category(7), float64(1), int64(13)\n",
      "memory usage: 167.0 KB\n"
     ]
    }
   ],
   "source": [
    "data.info()"
   ]
  },
  {
   "cell_type": "code",
   "execution_count": 9,
   "id": "ee5603a5",
   "metadata": {
    "scrolled": false
   },
   "outputs": [
    {
     "data": {
      "text/html": [
       "<div>\n",
       "<style scoped>\n",
       "    .dataframe tbody tr th:only-of-type {\n",
       "        vertical-align: middle;\n",
       "    }\n",
       "\n",
       "    .dataframe tbody tr th {\n",
       "        vertical-align: top;\n",
       "    }\n",
       "\n",
       "    .dataframe thead th {\n",
       "        text-align: right;\n",
       "    }\n",
       "</style>\n",
       "<table border=\"1\" class=\"dataframe\">\n",
       "  <thead>\n",
       "    <tr style=\"text-align: right;\">\n",
       "      <th></th>\n",
       "      <th>Age</th>\n",
       "      <th>Number_children</th>\n",
       "      <th>education_level</th>\n",
       "      <th>total_members</th>\n",
       "      <th>gained_asset</th>\n",
       "      <th>durable_asset</th>\n",
       "      <th>save_asset</th>\n",
       "      <th>living_expenses</th>\n",
       "      <th>other_expenses</th>\n",
       "      <th>incoming_agricultural</th>\n",
       "      <th>farm_expenses</th>\n",
       "      <th>lasting_investment</th>\n",
       "      <th>no_lasting_investmen</th>\n",
       "      <th>depressed</th>\n",
       "    </tr>\n",
       "  </thead>\n",
       "  <tbody>\n",
       "    <tr>\n",
       "      <th>count</th>\n",
       "      <td>1429.000000</td>\n",
       "      <td>1429.000000</td>\n",
       "      <td>1429.000000</td>\n",
       "      <td>1429.000000</td>\n",
       "      <td>1.429000e+03</td>\n",
       "      <td>1.429000e+03</td>\n",
       "      <td>1.429000e+03</td>\n",
       "      <td>1.429000e+03</td>\n",
       "      <td>1.429000e+03</td>\n",
       "      <td>1.429000e+03</td>\n",
       "      <td>1.429000e+03</td>\n",
       "      <td>1.429000e+03</td>\n",
       "      <td>1.409000e+03</td>\n",
       "      <td>1429.000000</td>\n",
       "    </tr>\n",
       "    <tr>\n",
       "      <th>mean</th>\n",
       "      <td>34.777467</td>\n",
       "      <td>2.883135</td>\n",
       "      <td>8.687194</td>\n",
       "      <td>4.969209</td>\n",
       "      <td>3.363448e+07</td>\n",
       "      <td>2.717296e+07</td>\n",
       "      <td>2.742471e+07</td>\n",
       "      <td>3.248257e+07</td>\n",
       "      <td>3.366632e+07</td>\n",
       "      <td>3.451039e+07</td>\n",
       "      <td>3.549153e+07</td>\n",
       "      <td>3.299222e+07</td>\n",
       "      <td>3.360385e+07</td>\n",
       "      <td>0.166550</td>\n",
       "    </tr>\n",
       "    <tr>\n",
       "      <th>std</th>\n",
       "      <td>13.986219</td>\n",
       "      <td>1.874472</td>\n",
       "      <td>2.923532</td>\n",
       "      <td>1.786317</td>\n",
       "      <td>2.003854e+07</td>\n",
       "      <td>1.815672e+07</td>\n",
       "      <td>1.775137e+07</td>\n",
       "      <td>2.101528e+07</td>\n",
       "      <td>2.170266e+07</td>\n",
       "      <td>2.077846e+07</td>\n",
       "      <td>2.112372e+07</td>\n",
       "      <td>2.121621e+07</td>\n",
       "      <td>2.160228e+07</td>\n",
       "      <td>0.372704</td>\n",
       "    </tr>\n",
       "    <tr>\n",
       "      <th>min</th>\n",
       "      <td>17.000000</td>\n",
       "      <td>0.000000</td>\n",
       "      <td>1.000000</td>\n",
       "      <td>1.000000</td>\n",
       "      <td>3.251120e+05</td>\n",
       "      <td>1.625560e+05</td>\n",
       "      <td>1.729660e+05</td>\n",
       "      <td>2.629190e+05</td>\n",
       "      <td>1.729660e+05</td>\n",
       "      <td>3.251120e+05</td>\n",
       "      <td>2.715050e+05</td>\n",
       "      <td>7.429200e+04</td>\n",
       "      <td>1.263120e+05</td>\n",
       "      <td>0.000000</td>\n",
       "    </tr>\n",
       "    <tr>\n",
       "      <th>25%</th>\n",
       "      <td>25.000000</td>\n",
       "      <td>2.000000</td>\n",
       "      <td>8.000000</td>\n",
       "      <td>4.000000</td>\n",
       "      <td>2.326982e+07</td>\n",
       "      <td>1.929852e+07</td>\n",
       "      <td>2.339998e+07</td>\n",
       "      <td>2.088671e+07</td>\n",
       "      <td>2.098014e+07</td>\n",
       "      <td>2.322229e+07</td>\n",
       "      <td>2.279966e+07</td>\n",
       "      <td>2.001911e+07</td>\n",
       "      <td>2.064203e+07</td>\n",
       "      <td>0.000000</td>\n",
       "    </tr>\n",
       "    <tr>\n",
       "      <th>50%</th>\n",
       "      <td>30.000000</td>\n",
       "      <td>3.000000</td>\n",
       "      <td>9.000000</td>\n",
       "      <td>5.000000</td>\n",
       "      <td>2.891220e+07</td>\n",
       "      <td>2.286194e+07</td>\n",
       "      <td>2.339998e+07</td>\n",
       "      <td>2.669228e+07</td>\n",
       "      <td>2.820307e+07</td>\n",
       "      <td>3.002882e+07</td>\n",
       "      <td>3.136343e+07</td>\n",
       "      <td>2.841172e+07</td>\n",
       "      <td>2.829271e+07</td>\n",
       "      <td>0.000000</td>\n",
       "    </tr>\n",
       "    <tr>\n",
       "      <th>75%</th>\n",
       "      <td>42.000000</td>\n",
       "      <td>4.000000</td>\n",
       "      <td>10.000000</td>\n",
       "      <td>6.000000</td>\n",
       "      <td>3.717283e+07</td>\n",
       "      <td>2.656950e+07</td>\n",
       "      <td>2.339998e+07</td>\n",
       "      <td>3.843689e+07</td>\n",
       "      <td>4.051889e+07</td>\n",
       "      <td>4.003842e+07</td>\n",
       "      <td>4.348584e+07</td>\n",
       "      <td>3.982686e+07</td>\n",
       "      <td>4.151762e+07</td>\n",
       "      <td>0.000000</td>\n",
       "    </tr>\n",
       "    <tr>\n",
       "      <th>max</th>\n",
       "      <td>91.000000</td>\n",
       "      <td>11.000000</td>\n",
       "      <td>19.000000</td>\n",
       "      <td>12.000000</td>\n",
       "      <td>9.912755e+07</td>\n",
       "      <td>9.961560e+07</td>\n",
       "      <td>9.992676e+07</td>\n",
       "      <td>9.929528e+07</td>\n",
       "      <td>9.982380e+07</td>\n",
       "      <td>9.978910e+07</td>\n",
       "      <td>9.965119e+07</td>\n",
       "      <td>9.944667e+07</td>\n",
       "      <td>9.965119e+07</td>\n",
       "      <td>1.000000</td>\n",
       "    </tr>\n",
       "  </tbody>\n",
       "</table>\n",
       "</div>"
      ],
      "text/plain": [
       "               Age  Number_children  education_level  total_members  \\\n",
       "count  1429.000000      1429.000000      1429.000000    1429.000000   \n",
       "mean     34.777467         2.883135         8.687194       4.969209   \n",
       "std      13.986219         1.874472         2.923532       1.786317   \n",
       "min      17.000000         0.000000         1.000000       1.000000   \n",
       "25%      25.000000         2.000000         8.000000       4.000000   \n",
       "50%      30.000000         3.000000         9.000000       5.000000   \n",
       "75%      42.000000         4.000000        10.000000       6.000000   \n",
       "max      91.000000        11.000000        19.000000      12.000000   \n",
       "\n",
       "       gained_asset  durable_asset    save_asset  living_expenses  \\\n",
       "count  1.429000e+03   1.429000e+03  1.429000e+03     1.429000e+03   \n",
       "mean   3.363448e+07   2.717296e+07  2.742471e+07     3.248257e+07   \n",
       "std    2.003854e+07   1.815672e+07  1.775137e+07     2.101528e+07   \n",
       "min    3.251120e+05   1.625560e+05  1.729660e+05     2.629190e+05   \n",
       "25%    2.326982e+07   1.929852e+07  2.339998e+07     2.088671e+07   \n",
       "50%    2.891220e+07   2.286194e+07  2.339998e+07     2.669228e+07   \n",
       "75%    3.717283e+07   2.656950e+07  2.339998e+07     3.843689e+07   \n",
       "max    9.912755e+07   9.961560e+07  9.992676e+07     9.929528e+07   \n",
       "\n",
       "       other_expenses  incoming_agricultural  farm_expenses  \\\n",
       "count    1.429000e+03           1.429000e+03   1.429000e+03   \n",
       "mean     3.366632e+07           3.451039e+07   3.549153e+07   \n",
       "std      2.170266e+07           2.077846e+07   2.112372e+07   \n",
       "min      1.729660e+05           3.251120e+05   2.715050e+05   \n",
       "25%      2.098014e+07           2.322229e+07   2.279966e+07   \n",
       "50%      2.820307e+07           3.002882e+07   3.136343e+07   \n",
       "75%      4.051889e+07           4.003842e+07   4.348584e+07   \n",
       "max      9.982380e+07           9.978910e+07   9.965119e+07   \n",
       "\n",
       "       lasting_investment  no_lasting_investmen    depressed  \n",
       "count        1.429000e+03          1.409000e+03  1429.000000  \n",
       "mean         3.299222e+07          3.360385e+07     0.166550  \n",
       "std          2.121621e+07          2.160228e+07     0.372704  \n",
       "min          7.429200e+04          1.263120e+05     0.000000  \n",
       "25%          2.001911e+07          2.064203e+07     0.000000  \n",
       "50%          2.841172e+07          2.829271e+07     0.000000  \n",
       "75%          3.982686e+07          4.151762e+07     0.000000  \n",
       "max          9.944667e+07          9.965119e+07     1.000000  "
      ]
     },
     "execution_count": 9,
     "metadata": {},
     "output_type": "execute_result"
    }
   ],
   "source": [
    "data.describe()"
   ]
  },
  {
   "cell_type": "markdown",
   "id": "e11a3d5f",
   "metadata": {},
   "source": [
    "Вычислим матрицу корреляции для количественных признаков и используем визуальный образ данной матрицы:"
   ]
  },
  {
   "cell_type": "code",
   "execution_count": 10,
   "id": "6d683bb7",
   "metadata": {
    "scrolled": true
   },
   "outputs": [
    {
     "data": {
      "text/html": [
       "<div>\n",
       "<style scoped>\n",
       "    .dataframe tbody tr th:only-of-type {\n",
       "        vertical-align: middle;\n",
       "    }\n",
       "\n",
       "    .dataframe tbody tr th {\n",
       "        vertical-align: top;\n",
       "    }\n",
       "\n",
       "    .dataframe thead th {\n",
       "        text-align: right;\n",
       "    }\n",
       "</style>\n",
       "<table border=\"1\" class=\"dataframe\">\n",
       "  <thead>\n",
       "    <tr style=\"text-align: right;\">\n",
       "      <th></th>\n",
       "      <th>Age</th>\n",
       "      <th>Number_children</th>\n",
       "      <th>education_level</th>\n",
       "      <th>total_members</th>\n",
       "      <th>gained_asset</th>\n",
       "      <th>durable_asset</th>\n",
       "      <th>save_asset</th>\n",
       "      <th>living_expenses</th>\n",
       "      <th>other_expenses</th>\n",
       "      <th>incoming_agricultural</th>\n",
       "      <th>farm_expenses</th>\n",
       "      <th>lasting_investment</th>\n",
       "      <th>no_lasting_investmen</th>\n",
       "      <th>depressed</th>\n",
       "    </tr>\n",
       "  </thead>\n",
       "  <tbody>\n",
       "    <tr>\n",
       "      <th>Age</th>\n",
       "      <td>1.000000</td>\n",
       "      <td>-0.138448</td>\n",
       "      <td>-0.377146</td>\n",
       "      <td>-0.073936</td>\n",
       "      <td>0.008316</td>\n",
       "      <td>0.045368</td>\n",
       "      <td>-0.026685</td>\n",
       "      <td>-0.036599</td>\n",
       "      <td>0.026270</td>\n",
       "      <td>-0.009173</td>\n",
       "      <td>-0.009428</td>\n",
       "      <td>0.045714</td>\n",
       "      <td>-0.023430</td>\n",
       "      <td>0.105721</td>\n",
       "    </tr>\n",
       "    <tr>\n",
       "      <th>Number_children</th>\n",
       "      <td>-0.138448</td>\n",
       "      <td>1.000000</td>\n",
       "      <td>0.175165</td>\n",
       "      <td>0.781731</td>\n",
       "      <td>0.016195</td>\n",
       "      <td>-0.014358</td>\n",
       "      <td>0.027850</td>\n",
       "      <td>-0.000618</td>\n",
       "      <td>0.001611</td>\n",
       "      <td>0.018512</td>\n",
       "      <td>0.052273</td>\n",
       "      <td>0.042988</td>\n",
       "      <td>0.014344</td>\n",
       "      <td>0.003823</td>\n",
       "    </tr>\n",
       "    <tr>\n",
       "      <th>education_level</th>\n",
       "      <td>-0.377146</td>\n",
       "      <td>0.175165</td>\n",
       "      <td>1.000000</td>\n",
       "      <td>0.130236</td>\n",
       "      <td>0.014534</td>\n",
       "      <td>-0.011658</td>\n",
       "      <td>0.046626</td>\n",
       "      <td>0.010132</td>\n",
       "      <td>-0.043732</td>\n",
       "      <td>-0.054515</td>\n",
       "      <td>0.010648</td>\n",
       "      <td>0.005361</td>\n",
       "      <td>0.013849</td>\n",
       "      <td>-0.098043</td>\n",
       "    </tr>\n",
       "    <tr>\n",
       "      <th>total_members</th>\n",
       "      <td>-0.073936</td>\n",
       "      <td>0.781731</td>\n",
       "      <td>0.130236</td>\n",
       "      <td>1.000000</td>\n",
       "      <td>0.015472</td>\n",
       "      <td>-0.040372</td>\n",
       "      <td>0.036630</td>\n",
       "      <td>-0.005937</td>\n",
       "      <td>0.009988</td>\n",
       "      <td>0.026157</td>\n",
       "      <td>0.072907</td>\n",
       "      <td>0.044341</td>\n",
       "      <td>0.048028</td>\n",
       "      <td>0.035056</td>\n",
       "    </tr>\n",
       "    <tr>\n",
       "      <th>gained_asset</th>\n",
       "      <td>0.008316</td>\n",
       "      <td>0.016195</td>\n",
       "      <td>0.014534</td>\n",
       "      <td>0.015472</td>\n",
       "      <td>1.000000</td>\n",
       "      <td>-0.005730</td>\n",
       "      <td>-0.004477</td>\n",
       "      <td>0.073981</td>\n",
       "      <td>0.039911</td>\n",
       "      <td>0.028656</td>\n",
       "      <td>0.058569</td>\n",
       "      <td>0.033085</td>\n",
       "      <td>0.030779</td>\n",
       "      <td>-0.004402</td>\n",
       "    </tr>\n",
       "    <tr>\n",
       "      <th>durable_asset</th>\n",
       "      <td>0.045368</td>\n",
       "      <td>-0.014358</td>\n",
       "      <td>-0.011658</td>\n",
       "      <td>-0.040372</td>\n",
       "      <td>-0.005730</td>\n",
       "      <td>1.000000</td>\n",
       "      <td>-0.038218</td>\n",
       "      <td>0.020984</td>\n",
       "      <td>0.086410</td>\n",
       "      <td>0.024395</td>\n",
       "      <td>0.027892</td>\n",
       "      <td>0.246894</td>\n",
       "      <td>0.022460</td>\n",
       "      <td>0.040505</td>\n",
       "    </tr>\n",
       "    <tr>\n",
       "      <th>save_asset</th>\n",
       "      <td>-0.026685</td>\n",
       "      <td>0.027850</td>\n",
       "      <td>0.046626</td>\n",
       "      <td>0.036630</td>\n",
       "      <td>-0.004477</td>\n",
       "      <td>-0.038218</td>\n",
       "      <td>1.000000</td>\n",
       "      <td>0.023722</td>\n",
       "      <td>0.028680</td>\n",
       "      <td>0.022900</td>\n",
       "      <td>0.040168</td>\n",
       "      <td>0.034959</td>\n",
       "      <td>0.028610</td>\n",
       "      <td>0.009059</td>\n",
       "    </tr>\n",
       "    <tr>\n",
       "      <th>living_expenses</th>\n",
       "      <td>-0.036599</td>\n",
       "      <td>-0.000618</td>\n",
       "      <td>0.010132</td>\n",
       "      <td>-0.005937</td>\n",
       "      <td>0.073981</td>\n",
       "      <td>0.020984</td>\n",
       "      <td>0.023722</td>\n",
       "      <td>1.000000</td>\n",
       "      <td>0.055057</td>\n",
       "      <td>0.115553</td>\n",
       "      <td>0.003512</td>\n",
       "      <td>0.040247</td>\n",
       "      <td>0.047035</td>\n",
       "      <td>-0.028213</td>\n",
       "    </tr>\n",
       "    <tr>\n",
       "      <th>other_expenses</th>\n",
       "      <td>0.026270</td>\n",
       "      <td>0.001611</td>\n",
       "      <td>-0.043732</td>\n",
       "      <td>0.009988</td>\n",
       "      <td>0.039911</td>\n",
       "      <td>0.086410</td>\n",
       "      <td>0.028680</td>\n",
       "      <td>0.055057</td>\n",
       "      <td>1.000000</td>\n",
       "      <td>0.071319</td>\n",
       "      <td>0.042088</td>\n",
       "      <td>0.048173</td>\n",
       "      <td>0.018902</td>\n",
       "      <td>0.017117</td>\n",
       "    </tr>\n",
       "    <tr>\n",
       "      <th>incoming_agricultural</th>\n",
       "      <td>-0.009173</td>\n",
       "      <td>0.018512</td>\n",
       "      <td>-0.054515</td>\n",
       "      <td>0.026157</td>\n",
       "      <td>0.028656</td>\n",
       "      <td>0.024395</td>\n",
       "      <td>0.022900</td>\n",
       "      <td>0.115553</td>\n",
       "      <td>0.071319</td>\n",
       "      <td>1.000000</td>\n",
       "      <td>0.093706</td>\n",
       "      <td>-0.003214</td>\n",
       "      <td>0.066920</td>\n",
       "      <td>-0.019147</td>\n",
       "    </tr>\n",
       "    <tr>\n",
       "      <th>farm_expenses</th>\n",
       "      <td>-0.009428</td>\n",
       "      <td>0.052273</td>\n",
       "      <td>0.010648</td>\n",
       "      <td>0.072907</td>\n",
       "      <td>0.058569</td>\n",
       "      <td>0.027892</td>\n",
       "      <td>0.040168</td>\n",
       "      <td>0.003512</td>\n",
       "      <td>0.042088</td>\n",
       "      <td>0.093706</td>\n",
       "      <td>1.000000</td>\n",
       "      <td>-0.001772</td>\n",
       "      <td>0.125146</td>\n",
       "      <td>-0.004901</td>\n",
       "    </tr>\n",
       "    <tr>\n",
       "      <th>lasting_investment</th>\n",
       "      <td>0.045714</td>\n",
       "      <td>0.042988</td>\n",
       "      <td>0.005361</td>\n",
       "      <td>0.044341</td>\n",
       "      <td>0.033085</td>\n",
       "      <td>0.246894</td>\n",
       "      <td>0.034959</td>\n",
       "      <td>0.040247</td>\n",
       "      <td>0.048173</td>\n",
       "      <td>-0.003214</td>\n",
       "      <td>-0.001772</td>\n",
       "      <td>1.000000</td>\n",
       "      <td>0.043120</td>\n",
       "      <td>0.004136</td>\n",
       "    </tr>\n",
       "    <tr>\n",
       "      <th>no_lasting_investmen</th>\n",
       "      <td>-0.023430</td>\n",
       "      <td>0.014344</td>\n",
       "      <td>0.013849</td>\n",
       "      <td>0.048028</td>\n",
       "      <td>0.030779</td>\n",
       "      <td>0.022460</td>\n",
       "      <td>0.028610</td>\n",
       "      <td>0.047035</td>\n",
       "      <td>0.018902</td>\n",
       "      <td>0.066920</td>\n",
       "      <td>0.125146</td>\n",
       "      <td>0.043120</td>\n",
       "      <td>1.000000</td>\n",
       "      <td>0.051973</td>\n",
       "    </tr>\n",
       "    <tr>\n",
       "      <th>depressed</th>\n",
       "      <td>0.105721</td>\n",
       "      <td>0.003823</td>\n",
       "      <td>-0.098043</td>\n",
       "      <td>0.035056</td>\n",
       "      <td>-0.004402</td>\n",
       "      <td>0.040505</td>\n",
       "      <td>0.009059</td>\n",
       "      <td>-0.028213</td>\n",
       "      <td>0.017117</td>\n",
       "      <td>-0.019147</td>\n",
       "      <td>-0.004901</td>\n",
       "      <td>0.004136</td>\n",
       "      <td>0.051973</td>\n",
       "      <td>1.000000</td>\n",
       "    </tr>\n",
       "  </tbody>\n",
       "</table>\n",
       "</div>"
      ],
      "text/plain": [
       "                            Age  Number_children  education_level  \\\n",
       "Age                    1.000000        -0.138448        -0.377146   \n",
       "Number_children       -0.138448         1.000000         0.175165   \n",
       "education_level       -0.377146         0.175165         1.000000   \n",
       "total_members         -0.073936         0.781731         0.130236   \n",
       "gained_asset           0.008316         0.016195         0.014534   \n",
       "durable_asset          0.045368        -0.014358        -0.011658   \n",
       "save_asset            -0.026685         0.027850         0.046626   \n",
       "living_expenses       -0.036599        -0.000618         0.010132   \n",
       "other_expenses         0.026270         0.001611        -0.043732   \n",
       "incoming_agricultural -0.009173         0.018512        -0.054515   \n",
       "farm_expenses         -0.009428         0.052273         0.010648   \n",
       "lasting_investment     0.045714         0.042988         0.005361   \n",
       "no_lasting_investmen  -0.023430         0.014344         0.013849   \n",
       "depressed              0.105721         0.003823        -0.098043   \n",
       "\n",
       "                       total_members  gained_asset  durable_asset  save_asset  \\\n",
       "Age                        -0.073936      0.008316       0.045368   -0.026685   \n",
       "Number_children             0.781731      0.016195      -0.014358    0.027850   \n",
       "education_level             0.130236      0.014534      -0.011658    0.046626   \n",
       "total_members               1.000000      0.015472      -0.040372    0.036630   \n",
       "gained_asset                0.015472      1.000000      -0.005730   -0.004477   \n",
       "durable_asset              -0.040372     -0.005730       1.000000   -0.038218   \n",
       "save_asset                  0.036630     -0.004477      -0.038218    1.000000   \n",
       "living_expenses            -0.005937      0.073981       0.020984    0.023722   \n",
       "other_expenses              0.009988      0.039911       0.086410    0.028680   \n",
       "incoming_agricultural       0.026157      0.028656       0.024395    0.022900   \n",
       "farm_expenses               0.072907      0.058569       0.027892    0.040168   \n",
       "lasting_investment          0.044341      0.033085       0.246894    0.034959   \n",
       "no_lasting_investmen        0.048028      0.030779       0.022460    0.028610   \n",
       "depressed                   0.035056     -0.004402       0.040505    0.009059   \n",
       "\n",
       "                       living_expenses  other_expenses  incoming_agricultural  \\\n",
       "Age                          -0.036599        0.026270              -0.009173   \n",
       "Number_children              -0.000618        0.001611               0.018512   \n",
       "education_level               0.010132       -0.043732              -0.054515   \n",
       "total_members                -0.005937        0.009988               0.026157   \n",
       "gained_asset                  0.073981        0.039911               0.028656   \n",
       "durable_asset                 0.020984        0.086410               0.024395   \n",
       "save_asset                    0.023722        0.028680               0.022900   \n",
       "living_expenses               1.000000        0.055057               0.115553   \n",
       "other_expenses                0.055057        1.000000               0.071319   \n",
       "incoming_agricultural         0.115553        0.071319               1.000000   \n",
       "farm_expenses                 0.003512        0.042088               0.093706   \n",
       "lasting_investment            0.040247        0.048173              -0.003214   \n",
       "no_lasting_investmen          0.047035        0.018902               0.066920   \n",
       "depressed                    -0.028213        0.017117              -0.019147   \n",
       "\n",
       "                       farm_expenses  lasting_investment  \\\n",
       "Age                        -0.009428            0.045714   \n",
       "Number_children             0.052273            0.042988   \n",
       "education_level             0.010648            0.005361   \n",
       "total_members               0.072907            0.044341   \n",
       "gained_asset                0.058569            0.033085   \n",
       "durable_asset               0.027892            0.246894   \n",
       "save_asset                  0.040168            0.034959   \n",
       "living_expenses             0.003512            0.040247   \n",
       "other_expenses              0.042088            0.048173   \n",
       "incoming_agricultural       0.093706           -0.003214   \n",
       "farm_expenses               1.000000           -0.001772   \n",
       "lasting_investment         -0.001772            1.000000   \n",
       "no_lasting_investmen        0.125146            0.043120   \n",
       "depressed                  -0.004901            0.004136   \n",
       "\n",
       "                       no_lasting_investmen  depressed  \n",
       "Age                               -0.023430   0.105721  \n",
       "Number_children                    0.014344   0.003823  \n",
       "education_level                    0.013849  -0.098043  \n",
       "total_members                      0.048028   0.035056  \n",
       "gained_asset                       0.030779  -0.004402  \n",
       "durable_asset                      0.022460   0.040505  \n",
       "save_asset                         0.028610   0.009059  \n",
       "living_expenses                    0.047035  -0.028213  \n",
       "other_expenses                     0.018902   0.017117  \n",
       "incoming_agricultural              0.066920  -0.019147  \n",
       "farm_expenses                      0.125146  -0.004901  \n",
       "lasting_investment                 0.043120   0.004136  \n",
       "no_lasting_investmen               1.000000   0.051973  \n",
       "depressed                          0.051973   1.000000  "
      ]
     },
     "execution_count": 10,
     "metadata": {},
     "output_type": "execute_result"
    }
   ],
   "source": [
    "corr_mat = data.corr()\n",
    "corr_mat"
   ]
  },
  {
   "cell_type": "code",
   "execution_count": 11,
   "id": "4adb10bb",
   "metadata": {
    "scrolled": true
   },
   "outputs": [
    {
     "data": {
      "image/png": "[encoded data removed]",
      "text/plain": [
       "<Figure size 432x288 with 2 Axes>"
      ]
     },
     "metadata": {
      "needs_background": "light"
     },
     "output_type": "display_data"
    }
   ],
   "source": [
    "sns.heatmap(corr_mat, square = True, cmap = 'Blues')\n",
    "pass"
   ]
  },
  {
   "cell_type": "markdown",
   "id": "77ca4719",
   "metadata": {},
   "source": [
    "Найдем сильно коррелирующие признаки (с корреляцией > 0.5):"
   ]
  },
  {
   "cell_type": "code",
   "execution_count": 12,
   "id": "c2e50131",
   "metadata": {
    "scrolled": true
   },
   "outputs": [
    {
     "data": {
      "text/plain": [
       "Number_children  total_members    0.781731\n",
       "dtype: float64"
      ]
     },
     "execution_count": 12,
     "metadata": {},
     "output_type": "execute_result"
    }
   ],
   "source": [
    "corr_mat.where(np.triu(corr_mat > 0.5, k=1)).stack().sort_values(ascending=False)"
   ]
  },
  {
   "cell_type": "markdown",
   "id": "09028ded",
   "metadata": {},
   "source": [
    "Можно заметить, что большая корреляция наблюдается между числом детей и количеством членов семьи. Очевидная прямопропорциональная зависимость."
   ]
  },
  {
   "cell_type": "code",
   "execution_count": 16,
   "id": "4733f45c",
   "metadata": {},
   "outputs": [
    {
     "data": {
      "image/png": "[encoded data removed]",
      "text/plain": [
       "<Figure size 432x288 with 1 Axes>"
      ]
     },
     "metadata": {
      "needs_background": "light"
     },
     "output_type": "display_data"
    }
   ],
   "source": [
    "plt.scatter(data['Number_children'], data['total_members'], alpha = 0.5)\n",
    "pass"
   ]
  },
  {
   "cell_type": "markdown",
   "id": "36b4ddc8",
   "metadata": {},
   "source": [
    "**Заполнение пропущенных значений**"
   ]
  },
  {
   "cell_type": "code",
   "execution_count": 17,
   "id": "056f6e56",
   "metadata": {},
   "outputs": [
    {
     "data": {
      "text/plain": [
       "sex                       0\n",
       "Age                       0\n",
       "Married                   0\n",
       "Number_children           0\n",
       "education_level           0\n",
       "total_members             0\n",
       "gained_asset              0\n",
       "durable_asset             0\n",
       "save_asset                0\n",
       "living_expenses           0\n",
       "other_expenses            0\n",
       "incoming_salary           0\n",
       "incoming_own_farm         0\n",
       "incoming_business         0\n",
       "incoming_no_business      0\n",
       "incoming_agricultural     0\n",
       "farm_expenses             0\n",
       "labor_primary             0\n",
       "lasting_investment        0\n",
       "no_lasting_investmen     20\n",
       "depressed                 0\n",
       "dtype: int64"
      ]
     },
     "execution_count": 17,
     "metadata": {},
     "output_type": "execute_result"
    }
   ],
   "source": [
    "data.isna().sum()"
   ]
  },
  {
   "cell_type": "markdown",
   "id": "73eee6c5",
   "metadata": {},
   "source": [
    "Заполним медианами пропущенные значения в столбцах, соответствующих количественным признакам:"
   ]
  },
  {
   "cell_type": "code",
   "execution_count": 18,
   "id": "e2605d7d",
   "metadata": {},
   "outputs": [],
   "source": [
    "data['no_lasting_investmen'].fillna(data['no_lasting_investmen'].median(axis = 0), inplace = True)\n"
   ]
  },
  {
   "cell_type": "code",
   "execution_count": 19,
   "id": "4f93baa8",
   "metadata": {},
   "outputs": [
    {
     "data": {
      "text/plain": [
       "sex                      0\n",
       "Age                      0\n",
       "Married                  0\n",
       "Number_children          0\n",
       "education_level          0\n",
       "total_members            0\n",
       "gained_asset             0\n",
       "durable_asset            0\n",
       "save_asset               0\n",
       "living_expenses          0\n",
       "other_expenses           0\n",
       "incoming_salary          0\n",
       "incoming_own_farm        0\n",
       "incoming_business        0\n",
       "incoming_no_business     0\n",
       "incoming_agricultural    0\n",
       "farm_expenses            0\n",
       "labor_primary            0\n",
       "lasting_investment       0\n",
       "no_lasting_investmen     0\n",
       "depressed                0\n",
       "dtype: int64"
      ]
     },
     "execution_count": 19,
     "metadata": {},
     "output_type": "execute_result"
    }
   ],
   "source": [
    "data.isna().sum()"
   ]
  },
  {
   "cell_type": "code",
   "execution_count": 20,
   "id": "7424892c",
   "metadata": {},
   "outputs": [
    {
     "data": {
      "text/html": [
       "<div>\n",
       "<style scoped>\n",
       "    .dataframe tbody tr th:only-of-type {\n",
       "        vertical-align: middle;\n",
       "    }\n",
       "\n",
       "    .dataframe tbody tr th {\n",
       "        vertical-align: top;\n",
       "    }\n",
       "\n",
       "    .dataframe thead th {\n",
       "        text-align: right;\n",
       "    }\n",
       "</style>\n",
       "<table border=\"1\" class=\"dataframe\">\n",
       "  <thead>\n",
       "    <tr style=\"text-align: right;\">\n",
       "      <th></th>\n",
       "      <th>Age</th>\n",
       "      <th>Number_children</th>\n",
       "      <th>education_level</th>\n",
       "      <th>total_members</th>\n",
       "      <th>gained_asset</th>\n",
       "      <th>durable_asset</th>\n",
       "      <th>save_asset</th>\n",
       "      <th>living_expenses</th>\n",
       "      <th>other_expenses</th>\n",
       "      <th>incoming_agricultural</th>\n",
       "      <th>farm_expenses</th>\n",
       "      <th>lasting_investment</th>\n",
       "      <th>no_lasting_investmen</th>\n",
       "      <th>depressed</th>\n",
       "    </tr>\n",
       "  </thead>\n",
       "  <tbody>\n",
       "    <tr>\n",
       "      <th>count</th>\n",
       "      <td>1429.000000</td>\n",
       "      <td>1429.000000</td>\n",
       "      <td>1429.000000</td>\n",
       "      <td>1429.000000</td>\n",
       "      <td>1.429000e+03</td>\n",
       "      <td>1.429000e+03</td>\n",
       "      <td>1.429000e+03</td>\n",
       "      <td>1.429000e+03</td>\n",
       "      <td>1.429000e+03</td>\n",
       "      <td>1.429000e+03</td>\n",
       "      <td>1.429000e+03</td>\n",
       "      <td>1.429000e+03</td>\n",
       "      <td>1.429000e+03</td>\n",
       "      <td>1429.000000</td>\n",
       "    </tr>\n",
       "    <tr>\n",
       "      <th>mean</th>\n",
       "      <td>34.777467</td>\n",
       "      <td>2.883135</td>\n",
       "      <td>8.687194</td>\n",
       "      <td>4.969209</td>\n",
       "      <td>3.363448e+07</td>\n",
       "      <td>2.717296e+07</td>\n",
       "      <td>2.742471e+07</td>\n",
       "      <td>3.248257e+07</td>\n",
       "      <td>3.366632e+07</td>\n",
       "      <td>3.451039e+07</td>\n",
       "      <td>3.549153e+07</td>\n",
       "      <td>3.299222e+07</td>\n",
       "      <td>3.352952e+07</td>\n",
       "      <td>0.166550</td>\n",
       "    </tr>\n",
       "    <tr>\n",
       "      <th>std</th>\n",
       "      <td>13.986219</td>\n",
       "      <td>1.874472</td>\n",
       "      <td>2.923532</td>\n",
       "      <td>1.786317</td>\n",
       "      <td>2.003854e+07</td>\n",
       "      <td>1.815672e+07</td>\n",
       "      <td>1.775137e+07</td>\n",
       "      <td>2.101528e+07</td>\n",
       "      <td>2.170266e+07</td>\n",
       "      <td>2.077846e+07</td>\n",
       "      <td>2.112372e+07</td>\n",
       "      <td>2.121621e+07</td>\n",
       "      <td>2.145955e+07</td>\n",
       "      <td>0.372704</td>\n",
       "    </tr>\n",
       "    <tr>\n",
       "      <th>min</th>\n",
       "      <td>17.000000</td>\n",
       "      <td>0.000000</td>\n",
       "      <td>1.000000</td>\n",
       "      <td>1.000000</td>\n",
       "      <td>3.251120e+05</td>\n",
       "      <td>1.625560e+05</td>\n",
       "      <td>1.729660e+05</td>\n",
       "      <td>2.629190e+05</td>\n",
       "      <td>1.729660e+05</td>\n",
       "      <td>3.251120e+05</td>\n",
       "      <td>2.715050e+05</td>\n",
       "      <td>7.429200e+04</td>\n",
       "      <td>1.263120e+05</td>\n",
       "      <td>0.000000</td>\n",
       "    </tr>\n",
       "    <tr>\n",
       "      <th>25%</th>\n",
       "      <td>25.000000</td>\n",
       "      <td>2.000000</td>\n",
       "      <td>8.000000</td>\n",
       "      <td>4.000000</td>\n",
       "      <td>2.326982e+07</td>\n",
       "      <td>1.929852e+07</td>\n",
       "      <td>2.339998e+07</td>\n",
       "      <td>2.088671e+07</td>\n",
       "      <td>2.098014e+07</td>\n",
       "      <td>2.322229e+07</td>\n",
       "      <td>2.279966e+07</td>\n",
       "      <td>2.001911e+07</td>\n",
       "      <td>2.074791e+07</td>\n",
       "      <td>0.000000</td>\n",
       "    </tr>\n",
       "    <tr>\n",
       "      <th>50%</th>\n",
       "      <td>30.000000</td>\n",
       "      <td>3.000000</td>\n",
       "      <td>9.000000</td>\n",
       "      <td>5.000000</td>\n",
       "      <td>2.891220e+07</td>\n",
       "      <td>2.286194e+07</td>\n",
       "      <td>2.339998e+07</td>\n",
       "      <td>2.669228e+07</td>\n",
       "      <td>2.820307e+07</td>\n",
       "      <td>3.002882e+07</td>\n",
       "      <td>3.136343e+07</td>\n",
       "      <td>2.841172e+07</td>\n",
       "      <td>2.829271e+07</td>\n",
       "      <td>0.000000</td>\n",
       "    </tr>\n",
       "    <tr>\n",
       "      <th>75%</th>\n",
       "      <td>42.000000</td>\n",
       "      <td>4.000000</td>\n",
       "      <td>10.000000</td>\n",
       "      <td>6.000000</td>\n",
       "      <td>3.717283e+07</td>\n",
       "      <td>2.656950e+07</td>\n",
       "      <td>2.339998e+07</td>\n",
       "      <td>3.843689e+07</td>\n",
       "      <td>4.051889e+07</td>\n",
       "      <td>4.003842e+07</td>\n",
       "      <td>4.348584e+07</td>\n",
       "      <td>3.982686e+07</td>\n",
       "      <td>4.088368e+07</td>\n",
       "      <td>0.000000</td>\n",
       "    </tr>\n",
       "    <tr>\n",
       "      <th>max</th>\n",
       "      <td>91.000000</td>\n",
       "      <td>11.000000</td>\n",
       "      <td>19.000000</td>\n",
       "      <td>12.000000</td>\n",
       "      <td>9.912755e+07</td>\n",
       "      <td>9.961560e+07</td>\n",
       "      <td>9.992676e+07</td>\n",
       "      <td>9.929528e+07</td>\n",
       "      <td>9.982380e+07</td>\n",
       "      <td>9.978910e+07</td>\n",
       "      <td>9.965119e+07</td>\n",
       "      <td>9.944667e+07</td>\n",
       "      <td>9.965119e+07</td>\n",
       "      <td>1.000000</td>\n",
       "    </tr>\n",
       "  </tbody>\n",
       "</table>\n",
       "</div>"
      ],
      "text/plain": [
       "               Age  Number_children  education_level  total_members  \\\n",
       "count  1429.000000      1429.000000      1429.000000    1429.000000   \n",
       "mean     34.777467         2.883135         8.687194       4.969209   \n",
       "std      13.986219         1.874472         2.923532       1.786317   \n",
       "min      17.000000         0.000000         1.000000       1.000000   \n",
       "25%      25.000000         2.000000         8.000000       4.000000   \n",
       "50%      30.000000         3.000000         9.000000       5.000000   \n",
       "75%      42.000000         4.000000        10.000000       6.000000   \n",
       "max      91.000000        11.000000        19.000000      12.000000   \n",
       "\n",
       "       gained_asset  durable_asset    save_asset  living_expenses  \\\n",
       "count  1.429000e+03   1.429000e+03  1.429000e+03     1.429000e+03   \n",
       "mean   3.363448e+07   2.717296e+07  2.742471e+07     3.248257e+07   \n",
       "std    2.003854e+07   1.815672e+07  1.775137e+07     2.101528e+07   \n",
       "min    3.251120e+05   1.625560e+05  1.729660e+05     2.629190e+05   \n",
       "25%    2.326982e+07   1.929852e+07  2.339998e+07     2.088671e+07   \n",
       "50%    2.891220e+07   2.286194e+07  2.339998e+07     2.669228e+07   \n",
       "75%    3.717283e+07   2.656950e+07  2.339998e+07     3.843689e+07   \n",
       "max    9.912755e+07   9.961560e+07  9.992676e+07     9.929528e+07   \n",
       "\n",
       "       other_expenses  incoming_agricultural  farm_expenses  \\\n",
       "count    1.429000e+03           1.429000e+03   1.429000e+03   \n",
       "mean     3.366632e+07           3.451039e+07   3.549153e+07   \n",
       "std      2.170266e+07           2.077846e+07   2.112372e+07   \n",
       "min      1.729660e+05           3.251120e+05   2.715050e+05   \n",
       "25%      2.098014e+07           2.322229e+07   2.279966e+07   \n",
       "50%      2.820307e+07           3.002882e+07   3.136343e+07   \n",
       "75%      4.051889e+07           4.003842e+07   4.348584e+07   \n",
       "max      9.982380e+07           9.978910e+07   9.965119e+07   \n",
       "\n",
       "       lasting_investment  no_lasting_investmen    depressed  \n",
       "count        1.429000e+03          1.429000e+03  1429.000000  \n",
       "mean         3.299222e+07          3.352952e+07     0.166550  \n",
       "std          2.121621e+07          2.145955e+07     0.372704  \n",
       "min          7.429200e+04          1.263120e+05     0.000000  \n",
       "25%          2.001911e+07          2.074791e+07     0.000000  \n",
       "50%          2.841172e+07          2.829271e+07     0.000000  \n",
       "75%          3.982686e+07          4.088368e+07     0.000000  \n",
       "max          9.944667e+07          9.965119e+07     1.000000  "
      ]
     },
     "execution_count": 20,
     "metadata": {},
     "output_type": "execute_result"
    }
   ],
   "source": [
    "data.describe()"
   ]
  },
  {
   "cell_type": "markdown",
   "id": "fe872d8a",
   "metadata": {},
   "source": [
    "Из данной таблицы видно, что пропущенных значений больше нет."
   ]
  },
  {
   "cell_type": "markdown",
   "id": "6d16fb5c",
   "metadata": {},
   "source": [
    "**Обработка категориальных признаков**"
   ]
  },
  {
   "cell_type": "markdown",
   "id": "c3c74deb",
   "metadata": {},
   "source": [
    "Разделим признаки на количественные и категориальные():"
   ]
  },
  {
   "cell_type": "code",
   "execution_count": 21,
   "id": "38005919",
   "metadata": {},
   "outputs": [],
   "source": [
    "numerical_columns = [c for c in data.columns if data[c].dtype.name != 'category']\n",
    "numerical_columns.remove('depressed')\n",
    "categorical_columns = [c for c in data.columns if data[c].dtype.name == 'category']\n",
    "data_describe = data.describe(include = ['category'])"
   ]
  },
  {
   "cell_type": "markdown",
   "id": "74cd89d2",
   "metadata": {},
   "source": [
    "Рассмотрим категориальные признаки и применим стандартизацию для бинарных  и векторизацию для небинарных"
   ]
  },
  {
   "cell_type": "code",
   "execution_count": 22,
   "id": "74fa7cb3",
   "metadata": {
    "scrolled": false
   },
   "outputs": [
    {
     "name": "stdout",
     "output_type": "stream",
     "text": [
      "['sex', 'Married', 'incoming_salary', 'incoming_own_farm', 'incoming_business', 'incoming_no_business', 'labor_primary'] []\n"
     ]
    }
   ],
   "source": [
    "binary_columns = [c for c in categorical_columns if data_describe[c]['unique'] == 2]\n",
    "nonbinary_columns = [c for c in categorical_columns if data_describe[c]['unique'] > 2]\n",
    "print(binary_columns, nonbinary_columns)\n"
   ]
  },
  {
   "cell_type": "code",
   "execution_count": 23,
   "id": "66687211",
   "metadata": {},
   "outputs": [
    {
     "name": "stdout",
     "output_type": "stream",
     "text": [
      "sex : 1, 0.\n",
      "Married : 1, 0.\n",
      "incoming_salary : 0, 1.\n",
      "incoming_own_farm : 0, 1.\n",
      "incoming_business : 0, 1.\n",
      "incoming_no_business : 0, 1.\n",
      "labor_primary : 0, 1.\n"
     ]
    }
   ],
   "source": [
    "for col in binary_columns:\n",
    "    print(col, ': ', end = '')\n",
    "    for uniq in data[col].unique():\n",
    "        if uniq == data[col].unique()[-1]:\n",
    "            print(uniq, end = '.')\n",
    "        else:\n",
    "            print(uniq, end = ', ')\n",
    "    print()"
   ]
  },
  {
   "cell_type": "code",
   "execution_count": 24,
   "id": "8138c882",
   "metadata": {},
   "outputs": [
    {
     "name": "stdout",
     "output_type": "stream",
     "text": [
      "count     1429\n",
      "unique       1\n",
      "top          1\n",
      "freq      1429\n",
      "Name: sex, dtype: int64\n",
      "\n",
      "count     1429\n",
      "unique       1\n",
      "top          1\n",
      "freq      1429\n",
      "Name: Married, dtype: int64\n",
      "\n",
      "count     1429\n",
      "unique       2\n",
      "top          0\n",
      "freq      1172\n",
      "Name: incoming_salary, dtype: int64\n",
      "\n",
      "count     1429\n",
      "unique       2\n",
      "top          0\n",
      "freq      1069\n",
      "Name: incoming_own_farm, dtype: int64\n",
      "\n",
      "count     1429\n",
      "unique       2\n",
      "top          0\n",
      "freq      1275\n",
      "Name: incoming_business, dtype: int64\n",
      "\n",
      "count     1429\n",
      "unique       2\n",
      "top          0\n",
      "freq      1057\n",
      "Name: incoming_no_business, dtype: int64\n",
      "\n",
      "count     1429\n",
      "unique       2\n",
      "top          0\n",
      "freq      1124\n",
      "Name: labor_primary, dtype: int64\n",
      "\n"
     ]
    }
   ],
   "source": [
    "for col in binary_columns:\n",
    "    data[col] = data[col].astype('object')\n",
    "    k = 0\n",
    "    for uniq in data[col].unique():\n",
    "        data.at[data[col] == uniq, col] = k\n",
    "        k +=1 \n",
    "for col in binary_columns:\n",
    "    print(data[col].describe(), end = '\\n\\n')"
   ]
  },
  {
   "cell_type": "markdown",
   "id": "61540e5a",
   "metadata": {},
   "source": [
    "**Нормализация количественных признаков**"
   ]
  },
  {
   "cell_type": "markdown",
   "id": "d7da828a",
   "metadata": {},
   "source": [
    "Имеем следующие количественные признаки:"
   ]
  },
  {
   "cell_type": "code",
   "execution_count": 26,
   "id": "c14456df",
   "metadata": {},
   "outputs": [
    {
     "data": {
      "text/html": [
       "<div>\n",
       "<style scoped>\n",
       "    .dataframe tbody tr th:only-of-type {\n",
       "        vertical-align: middle;\n",
       "    }\n",
       "\n",
       "    .dataframe tbody tr th {\n",
       "        vertical-align: top;\n",
       "    }\n",
       "\n",
       "    .dataframe thead th {\n",
       "        text-align: right;\n",
       "    }\n",
       "</style>\n",
       "<table border=\"1\" class=\"dataframe\">\n",
       "  <thead>\n",
       "    <tr style=\"text-align: right;\">\n",
       "      <th></th>\n",
       "      <th>Age</th>\n",
       "      <th>Number_children</th>\n",
       "      <th>education_level</th>\n",
       "      <th>total_members</th>\n",
       "      <th>gained_asset</th>\n",
       "      <th>durable_asset</th>\n",
       "      <th>save_asset</th>\n",
       "      <th>living_expenses</th>\n",
       "      <th>other_expenses</th>\n",
       "      <th>incoming_agricultural</th>\n",
       "      <th>farm_expenses</th>\n",
       "      <th>lasting_investment</th>\n",
       "      <th>no_lasting_investmen</th>\n",
       "    </tr>\n",
       "  </thead>\n",
       "  <tbody>\n",
       "    <tr>\n",
       "      <th>count</th>\n",
       "      <td>1429.000000</td>\n",
       "      <td>1429.000000</td>\n",
       "      <td>1429.000000</td>\n",
       "      <td>1429.000000</td>\n",
       "      <td>1.429000e+03</td>\n",
       "      <td>1.429000e+03</td>\n",
       "      <td>1.429000e+03</td>\n",
       "      <td>1.429000e+03</td>\n",
       "      <td>1.429000e+03</td>\n",
       "      <td>1.429000e+03</td>\n",
       "      <td>1.429000e+03</td>\n",
       "      <td>1.429000e+03</td>\n",
       "      <td>1.429000e+03</td>\n",
       "    </tr>\n",
       "    <tr>\n",
       "      <th>mean</th>\n",
       "      <td>34.777467</td>\n",
       "      <td>2.883135</td>\n",
       "      <td>8.687194</td>\n",
       "      <td>4.969209</td>\n",
       "      <td>3.363448e+07</td>\n",
       "      <td>2.717296e+07</td>\n",
       "      <td>2.742471e+07</td>\n",
       "      <td>3.248257e+07</td>\n",
       "      <td>3.366632e+07</td>\n",
       "      <td>3.451039e+07</td>\n",
       "      <td>3.549153e+07</td>\n",
       "      <td>3.299222e+07</td>\n",
       "      <td>3.352952e+07</td>\n",
       "    </tr>\n",
       "    <tr>\n",
       "      <th>std</th>\n",
       "      <td>13.986219</td>\n",
       "      <td>1.874472</td>\n",
       "      <td>2.923532</td>\n",
       "      <td>1.786317</td>\n",
       "      <td>2.003854e+07</td>\n",
       "      <td>1.815672e+07</td>\n",
       "      <td>1.775137e+07</td>\n",
       "      <td>2.101528e+07</td>\n",
       "      <td>2.170266e+07</td>\n",
       "      <td>2.077846e+07</td>\n",
       "      <td>2.112372e+07</td>\n",
       "      <td>2.121621e+07</td>\n",
       "      <td>2.145955e+07</td>\n",
       "    </tr>\n",
       "    <tr>\n",
       "      <th>min</th>\n",
       "      <td>17.000000</td>\n",
       "      <td>0.000000</td>\n",
       "      <td>1.000000</td>\n",
       "      <td>1.000000</td>\n",
       "      <td>3.251120e+05</td>\n",
       "      <td>1.625560e+05</td>\n",
       "      <td>1.729660e+05</td>\n",
       "      <td>2.629190e+05</td>\n",
       "      <td>1.729660e+05</td>\n",
       "      <td>3.251120e+05</td>\n",
       "      <td>2.715050e+05</td>\n",
       "      <td>7.429200e+04</td>\n",
       "      <td>1.263120e+05</td>\n",
       "    </tr>\n",
       "    <tr>\n",
       "      <th>25%</th>\n",
       "      <td>25.000000</td>\n",
       "      <td>2.000000</td>\n",
       "      <td>8.000000</td>\n",
       "      <td>4.000000</td>\n",
       "      <td>2.326982e+07</td>\n",
       "      <td>1.929852e+07</td>\n",
       "      <td>2.339998e+07</td>\n",
       "      <td>2.088671e+07</td>\n",
       "      <td>2.098014e+07</td>\n",
       "      <td>2.322229e+07</td>\n",
       "      <td>2.279966e+07</td>\n",
       "      <td>2.001911e+07</td>\n",
       "      <td>2.074791e+07</td>\n",
       "    </tr>\n",
       "    <tr>\n",
       "      <th>50%</th>\n",
       "      <td>30.000000</td>\n",
       "      <td>3.000000</td>\n",
       "      <td>9.000000</td>\n",
       "      <td>5.000000</td>\n",
       "      <td>2.891220e+07</td>\n",
       "      <td>2.286194e+07</td>\n",
       "      <td>2.339998e+07</td>\n",
       "      <td>2.669228e+07</td>\n",
       "      <td>2.820307e+07</td>\n",
       "      <td>3.002882e+07</td>\n",
       "      <td>3.136343e+07</td>\n",
       "      <td>2.841172e+07</td>\n",
       "      <td>2.829271e+07</td>\n",
       "    </tr>\n",
       "    <tr>\n",
       "      <th>75%</th>\n",
       "      <td>42.000000</td>\n",
       "      <td>4.000000</td>\n",
       "      <td>10.000000</td>\n",
       "      <td>6.000000</td>\n",
       "      <td>3.717283e+07</td>\n",
       "      <td>2.656950e+07</td>\n",
       "      <td>2.339998e+07</td>\n",
       "      <td>3.843689e+07</td>\n",
       "      <td>4.051889e+07</td>\n",
       "      <td>4.003842e+07</td>\n",
       "      <td>4.348584e+07</td>\n",
       "      <td>3.982686e+07</td>\n",
       "      <td>4.088368e+07</td>\n",
       "    </tr>\n",
       "    <tr>\n",
       "      <th>max</th>\n",
       "      <td>91.000000</td>\n",
       "      <td>11.000000</td>\n",
       "      <td>19.000000</td>\n",
       "      <td>12.000000</td>\n",
       "      <td>9.912755e+07</td>\n",
       "      <td>9.961560e+07</td>\n",
       "      <td>9.992676e+07</td>\n",
       "      <td>9.929528e+07</td>\n",
       "      <td>9.982380e+07</td>\n",
       "      <td>9.978910e+07</td>\n",
       "      <td>9.965119e+07</td>\n",
       "      <td>9.944667e+07</td>\n",
       "      <td>9.965119e+07</td>\n",
       "    </tr>\n",
       "  </tbody>\n",
       "</table>\n",
       "</div>"
      ],
      "text/plain": [
       "               Age  Number_children  education_level  total_members  \\\n",
       "count  1429.000000      1429.000000      1429.000000    1429.000000   \n",
       "mean     34.777467         2.883135         8.687194       4.969209   \n",
       "std      13.986219         1.874472         2.923532       1.786317   \n",
       "min      17.000000         0.000000         1.000000       1.000000   \n",
       "25%      25.000000         2.000000         8.000000       4.000000   \n",
       "50%      30.000000         3.000000         9.000000       5.000000   \n",
       "75%      42.000000         4.000000        10.000000       6.000000   \n",
       "max      91.000000        11.000000        19.000000      12.000000   \n",
       "\n",
       "       gained_asset  durable_asset    save_asset  living_expenses  \\\n",
       "count  1.429000e+03   1.429000e+03  1.429000e+03     1.429000e+03   \n",
       "mean   3.363448e+07   2.717296e+07  2.742471e+07     3.248257e+07   \n",
       "std    2.003854e+07   1.815672e+07  1.775137e+07     2.101528e+07   \n",
       "min    3.251120e+05   1.625560e+05  1.729660e+05     2.629190e+05   \n",
       "25%    2.326982e+07   1.929852e+07  2.339998e+07     2.088671e+07   \n",
       "50%    2.891220e+07   2.286194e+07  2.339998e+07     2.669228e+07   \n",
       "75%    3.717283e+07   2.656950e+07  2.339998e+07     3.843689e+07   \n",
       "max    9.912755e+07   9.961560e+07  9.992676e+07     9.929528e+07   \n",
       "\n",
       "       other_expenses  incoming_agricultural  farm_expenses  \\\n",
       "count    1.429000e+03           1.429000e+03   1.429000e+03   \n",
       "mean     3.366632e+07           3.451039e+07   3.549153e+07   \n",
       "std      2.170266e+07           2.077846e+07   2.112372e+07   \n",
       "min      1.729660e+05           3.251120e+05   2.715050e+05   \n",
       "25%      2.098014e+07           2.322229e+07   2.279966e+07   \n",
       "50%      2.820307e+07           3.002882e+07   3.136343e+07   \n",
       "75%      4.051889e+07           4.003842e+07   4.348584e+07   \n",
       "max      9.982380e+07           9.978910e+07   9.965119e+07   \n",
       "\n",
       "       lasting_investment  no_lasting_investmen  \n",
       "count        1.429000e+03          1.429000e+03  \n",
       "mean         3.299222e+07          3.352952e+07  \n",
       "std          2.121621e+07          2.145955e+07  \n",
       "min          7.429200e+04          1.263120e+05  \n",
       "25%          2.001911e+07          2.074791e+07  \n",
       "50%          2.841172e+07          2.829271e+07  \n",
       "75%          3.982686e+07          4.088368e+07  \n",
       "max          9.944667e+07          9.965119e+07  "
      ]
     },
     "execution_count": 26,
     "metadata": {},
     "output_type": "execute_result"
    }
   ],
   "source": [
    "target = data['depressed']\n",
    "data_numerical = data[numerical_columns]\n",
    "data_numerical.describe()"
   ]
  },
  {
   "cell_type": "markdown",
   "id": "fb26cf23",
   "metadata": {},
   "source": [
    "Выполним стандартизацию (линейное преобразование, приводящее все значения к нулевому среднему и единичному стандартному отклонению) всех количественных признаков:"
   ]
  },
  {
   "cell_type": "code",
   "execution_count": 27,
   "id": "65a7c1fe",
   "metadata": {},
   "outputs": [],
   "source": [
    "data_numerical = (data_numerical - data_numerical.mean(axis = 0))/data_numerical.std(axis = 0)"
   ]
  },
  {
   "cell_type": "code",
   "execution_count": 28,
   "id": "7961fdd4",
   "metadata": {
    "scrolled": true
   },
   "outputs": [
    {
     "data": {
      "text/html": [
       "<div>\n",
       "<style scoped>\n",
       "    .dataframe tbody tr th:only-of-type {\n",
       "        vertical-align: middle;\n",
       "    }\n",
       "\n",
       "    .dataframe tbody tr th {\n",
       "        vertical-align: top;\n",
       "    }\n",
       "\n",
       "    .dataframe thead th {\n",
       "        text-align: right;\n",
       "    }\n",
       "</style>\n",
       "<table border=\"1\" class=\"dataframe\">\n",
       "  <thead>\n",
       "    <tr style=\"text-align: right;\">\n",
       "      <th></th>\n",
       "      <th>Age</th>\n",
       "      <th>Number_children</th>\n",
       "      <th>education_level</th>\n",
       "      <th>total_members</th>\n",
       "      <th>gained_asset</th>\n",
       "      <th>durable_asset</th>\n",
       "      <th>save_asset</th>\n",
       "      <th>living_expenses</th>\n",
       "      <th>other_expenses</th>\n",
       "      <th>incoming_agricultural</th>\n",
       "      <th>farm_expenses</th>\n",
       "      <th>lasting_investment</th>\n",
       "      <th>no_lasting_investmen</th>\n",
       "    </tr>\n",
       "  </thead>\n",
       "  <tbody>\n",
       "    <tr>\n",
       "      <th>count</th>\n",
       "      <td>1.429000e+03</td>\n",
       "      <td>1.429000e+03</td>\n",
       "      <td>1.429000e+03</td>\n",
       "      <td>1.429000e+03</td>\n",
       "      <td>1.429000e+03</td>\n",
       "      <td>1.429000e+03</td>\n",
       "      <td>1.429000e+03</td>\n",
       "      <td>1.429000e+03</td>\n",
       "      <td>1.429000e+03</td>\n",
       "      <td>1.429000e+03</td>\n",
       "      <td>1.429000e+03</td>\n",
       "      <td>1.429000e+03</td>\n",
       "      <td>1.429000e+03</td>\n",
       "    </tr>\n",
       "    <tr>\n",
       "      <th>mean</th>\n",
       "      <td>3.224231e-17</td>\n",
       "      <td>-6.922384e-17</td>\n",
       "      <td>-2.622115e-17</td>\n",
       "      <td>9.574605e-17</td>\n",
       "      <td>-1.184031e-16</td>\n",
       "      <td>7.066115e-17</td>\n",
       "      <td>1.527431e-16</td>\n",
       "      <td>-1.760508e-16</td>\n",
       "      <td>-1.323877e-16</td>\n",
       "      <td>3.022231e-17</td>\n",
       "      <td>-1.910454e-16</td>\n",
       "      <td>-5.345231e-17</td>\n",
       "      <td>-1.824992e-16</td>\n",
       "    </tr>\n",
       "    <tr>\n",
       "      <th>std</th>\n",
       "      <td>1.000000e+00</td>\n",
       "      <td>1.000000e+00</td>\n",
       "      <td>1.000000e+00</td>\n",
       "      <td>1.000000e+00</td>\n",
       "      <td>1.000000e+00</td>\n",
       "      <td>1.000000e+00</td>\n",
       "      <td>1.000000e+00</td>\n",
       "      <td>1.000000e+00</td>\n",
       "      <td>1.000000e+00</td>\n",
       "      <td>1.000000e+00</td>\n",
       "      <td>1.000000e+00</td>\n",
       "      <td>1.000000e+00</td>\n",
       "      <td>1.000000e+00</td>\n",
       "    </tr>\n",
       "    <tr>\n",
       "      <th>min</th>\n",
       "      <td>-1.271070e+00</td>\n",
       "      <td>-1.538105e+00</td>\n",
       "      <td>-2.629420e+00</td>\n",
       "      <td>-2.222007e+00</td>\n",
       "      <td>-1.662265e+00</td>\n",
       "      <td>-1.487625e+00</td>\n",
       "      <td>-1.535191e+00</td>\n",
       "      <td>-1.533153e+00</td>\n",
       "      <td>-1.543284e+00</td>\n",
       "      <td>-1.645227e+00</td>\n",
       "      <td>-1.667321e+00</td>\n",
       "      <td>-1.551546e+00</td>\n",
       "      <td>-1.556566e+00</td>\n",
       "    </tr>\n",
       "    <tr>\n",
       "      <th>25%</th>\n",
       "      <td>-6.990786e-01</td>\n",
       "      <td>-4.711381e-01</td>\n",
       "      <td>-2.350560e-01</td>\n",
       "      <td>-5.425741e-01</td>\n",
       "      <td>-5.172360e-01</td>\n",
       "      <td>-4.336926e-01</td>\n",
       "      <td>-2.267277e-01</td>\n",
       "      <td>-5.517820e-01</td>\n",
       "      <td>-5.845455e-01</td>\n",
       "      <td>-5.432598e-01</td>\n",
       "      <td>-6.008350e-01</td>\n",
       "      <td>-6.114713e-01</td>\n",
       "      <td>-5.956138e-01</td>\n",
       "    </tr>\n",
       "    <tr>\n",
       "      <th>50%</th>\n",
       "      <td>-3.415839e-01</td>\n",
       "      <td>6.234554e-02</td>\n",
       "      <td>1.069960e-01</td>\n",
       "      <td>1.723701e-02</td>\n",
       "      <td>-2.356598e-01</td>\n",
       "      <td>-2.374337e-01</td>\n",
       "      <td>-2.267277e-01</td>\n",
       "      <td>-2.755272e-01</td>\n",
       "      <td>-2.517323e-01</td>\n",
       "      <td>-2.156835e-01</td>\n",
       "      <td>-1.954246e-01</td>\n",
       "      <td>-2.158961e-01</td>\n",
       "      <td>-2.440317e-01</td>\n",
       "    </tr>\n",
       "    <tr>\n",
       "      <th>75%</th>\n",
       "      <td>5.164036e-01</td>\n",
       "      <td>5.958292e-01</td>\n",
       "      <td>4.490479e-01</td>\n",
       "      <td>5.770481e-01</td>\n",
       "      <td>1.765775e-01</td>\n",
       "      <td>-3.323612e-02</td>\n",
       "      <td>-2.267277e-01</td>\n",
       "      <td>2.833329e-01</td>\n",
       "      <td>3.157477e-01</td>\n",
       "      <td>2.660464e-01</td>\n",
       "      <td>3.784523e-01</td>\n",
       "      <td>3.221427e-01</td>\n",
       "      <td>3.426990e-01</td>\n",
       "    </tr>\n",
       "    <tr>\n",
       "      <th>max</th>\n",
       "      <td>4.019852e+00</td>\n",
       "      <td>4.330215e+00</td>\n",
       "      <td>3.527516e+00</td>\n",
       "      <td>3.935915e+00</td>\n",
       "      <td>3.268356e+00</td>\n",
       "      <td>3.989853e+00</td>\n",
       "      <td>4.084306e+00</td>\n",
       "      <td>3.179244e+00</td>\n",
       "      <td>3.048358e+00</td>\n",
       "      <td>3.141652e+00</td>\n",
       "      <td>3.037329e+00</td>\n",
       "      <td>3.132249e+00</td>\n",
       "      <td>3.081224e+00</td>\n",
       "    </tr>\n",
       "  </tbody>\n",
       "</table>\n",
       "</div>"
      ],
      "text/plain": [
       "                Age  Number_children  education_level  total_members  \\\n",
       "count  1.429000e+03     1.429000e+03     1.429000e+03   1.429000e+03   \n",
       "mean   3.224231e-17    -6.922384e-17    -2.622115e-17   9.574605e-17   \n",
       "std    1.000000e+00     1.000000e+00     1.000000e+00   1.000000e+00   \n",
       "min   -1.271070e+00    -1.538105e+00    -2.629420e+00  -2.222007e+00   \n",
       "25%   -6.990786e-01    -4.711381e-01    -2.350560e-01  -5.425741e-01   \n",
       "50%   -3.415839e-01     6.234554e-02     1.069960e-01   1.723701e-02   \n",
       "75%    5.164036e-01     5.958292e-01     4.490479e-01   5.770481e-01   \n",
       "max    4.019852e+00     4.330215e+00     3.527516e+00   3.935915e+00   \n",
       "\n",
       "       gained_asset  durable_asset    save_asset  living_expenses  \\\n",
       "count  1.429000e+03   1.429000e+03  1.429000e+03     1.429000e+03   \n",
       "mean  -1.184031e-16   7.066115e-17  1.527431e-16    -1.760508e-16   \n",
       "std    1.000000e+00   1.000000e+00  1.000000e+00     1.000000e+00   \n",
       "min   -1.662265e+00  -1.487625e+00 -1.535191e+00    -1.533153e+00   \n",
       "25%   -5.172360e-01  -4.336926e-01 -2.267277e-01    -5.517820e-01   \n",
       "50%   -2.356598e-01  -2.374337e-01 -2.267277e-01    -2.755272e-01   \n",
       "75%    1.765775e-01  -3.323612e-02 -2.267277e-01     2.833329e-01   \n",
       "max    3.268356e+00   3.989853e+00  4.084306e+00     3.179244e+00   \n",
       "\n",
       "       other_expenses  incoming_agricultural  farm_expenses  \\\n",
       "count    1.429000e+03           1.429000e+03   1.429000e+03   \n",
       "mean    -1.323877e-16           3.022231e-17  -1.910454e-16   \n",
       "std      1.000000e+00           1.000000e+00   1.000000e+00   \n",
       "min     -1.543284e+00          -1.645227e+00  -1.667321e+00   \n",
       "25%     -5.845455e-01          -5.432598e-01  -6.008350e-01   \n",
       "50%     -2.517323e-01          -2.156835e-01  -1.954246e-01   \n",
       "75%      3.157477e-01           2.660464e-01   3.784523e-01   \n",
       "max      3.048358e+00           3.141652e+00   3.037329e+00   \n",
       "\n",
       "       lasting_investment  no_lasting_investmen  \n",
       "count        1.429000e+03          1.429000e+03  \n",
       "mean        -5.345231e-17         -1.824992e-16  \n",
       "std          1.000000e+00          1.000000e+00  \n",
       "min         -1.551546e+00         -1.556566e+00  \n",
       "25%         -6.114713e-01         -5.956138e-01  \n",
       "50%         -2.158961e-01         -2.440317e-01  \n",
       "75%          3.221427e-01          3.426990e-01  \n",
       "max          3.132249e+00          3.081224e+00  "
      ]
     },
     "execution_count": 28,
     "metadata": {},
     "output_type": "execute_result"
    }
   ],
   "source": [
    "data_numerical.describe()"
   ]
  },
  {
   "cell_type": "markdown",
   "id": "a5b1e671",
   "metadata": {},
   "source": [
    "**Формирование таблицы**"
   ]
  },
  {
   "cell_type": "markdown",
   "id": "08d0f8f6",
   "metadata": {},
   "source": [
    "Соединяем все преобразованные столбцы в одну таблицу:"
   ]
  },
  {
   "cell_type": "code",
   "execution_count": 29,
   "id": "c1ef2e17",
   "metadata": {},
   "outputs": [
    {
     "name": "stdout",
     "output_type": "stream",
     "text": [
      "(1429, 20)\n"
     ]
    }
   ],
   "source": [
    "data = pd.concat((data_numerical, data[binary_columns]), axis = 1)\n",
    "print(data.shape)"
   ]
  },
  {
   "cell_type": "markdown",
   "id": "859fb6d8",
   "metadata": {},
   "source": [
    "Теперь она имеет следующий вид:"
   ]
  },
  {
   "cell_type": "code",
   "execution_count": 30,
   "id": "3b859971",
   "metadata": {},
   "outputs": [
    {
     "data": {
      "text/html": [
       "<div>\n",
       "<style scoped>\n",
       "    .dataframe tbody tr th:only-of-type {\n",
       "        vertical-align: middle;\n",
       "    }\n",
       "\n",
       "    .dataframe tbody tr th {\n",
       "        vertical-align: top;\n",
       "    }\n",
       "\n",
       "    .dataframe thead th {\n",
       "        text-align: right;\n",
       "    }\n",
       "</style>\n",
       "<table border=\"1\" class=\"dataframe\">\n",
       "  <thead>\n",
       "    <tr style=\"text-align: right;\">\n",
       "      <th></th>\n",
       "      <th>Age</th>\n",
       "      <th>Number_children</th>\n",
       "      <th>education_level</th>\n",
       "      <th>total_members</th>\n",
       "      <th>gained_asset</th>\n",
       "      <th>durable_asset</th>\n",
       "      <th>save_asset</th>\n",
       "      <th>living_expenses</th>\n",
       "      <th>other_expenses</th>\n",
       "      <th>incoming_agricultural</th>\n",
       "      <th>farm_expenses</th>\n",
       "      <th>lasting_investment</th>\n",
       "      <th>no_lasting_investmen</th>\n",
       "    </tr>\n",
       "  </thead>\n",
       "  <tbody>\n",
       "    <tr>\n",
       "      <th>count</th>\n",
       "      <td>1.429000e+03</td>\n",
       "      <td>1.429000e+03</td>\n",
       "      <td>1.429000e+03</td>\n",
       "      <td>1.429000e+03</td>\n",
       "      <td>1.429000e+03</td>\n",
       "      <td>1.429000e+03</td>\n",
       "      <td>1.429000e+03</td>\n",
       "      <td>1.429000e+03</td>\n",
       "      <td>1.429000e+03</td>\n",
       "      <td>1.429000e+03</td>\n",
       "      <td>1.429000e+03</td>\n",
       "      <td>1.429000e+03</td>\n",
       "      <td>1.429000e+03</td>\n",
       "    </tr>\n",
       "    <tr>\n",
       "      <th>mean</th>\n",
       "      <td>3.224231e-17</td>\n",
       "      <td>-6.922384e-17</td>\n",
       "      <td>-2.622115e-17</td>\n",
       "      <td>9.574605e-17</td>\n",
       "      <td>-1.184031e-16</td>\n",
       "      <td>7.066115e-17</td>\n",
       "      <td>1.527431e-16</td>\n",
       "      <td>-1.760508e-16</td>\n",
       "      <td>-1.323877e-16</td>\n",
       "      <td>3.022231e-17</td>\n",
       "      <td>-1.910454e-16</td>\n",
       "      <td>-5.345231e-17</td>\n",
       "      <td>-1.824992e-16</td>\n",
       "    </tr>\n",
       "    <tr>\n",
       "      <th>std</th>\n",
       "      <td>1.000000e+00</td>\n",
       "      <td>1.000000e+00</td>\n",
       "      <td>1.000000e+00</td>\n",
       "      <td>1.000000e+00</td>\n",
       "      <td>1.000000e+00</td>\n",
       "      <td>1.000000e+00</td>\n",
       "      <td>1.000000e+00</td>\n",
       "      <td>1.000000e+00</td>\n",
       "      <td>1.000000e+00</td>\n",
       "      <td>1.000000e+00</td>\n",
       "      <td>1.000000e+00</td>\n",
       "      <td>1.000000e+00</td>\n",
       "      <td>1.000000e+00</td>\n",
       "    </tr>\n",
       "    <tr>\n",
       "      <th>min</th>\n",
       "      <td>-1.271070e+00</td>\n",
       "      <td>-1.538105e+00</td>\n",
       "      <td>-2.629420e+00</td>\n",
       "      <td>-2.222007e+00</td>\n",
       "      <td>-1.662265e+00</td>\n",
       "      <td>-1.487625e+00</td>\n",
       "      <td>-1.535191e+00</td>\n",
       "      <td>-1.533153e+00</td>\n",
       "      <td>-1.543284e+00</td>\n",
       "      <td>-1.645227e+00</td>\n",
       "      <td>-1.667321e+00</td>\n",
       "      <td>-1.551546e+00</td>\n",
       "      <td>-1.556566e+00</td>\n",
       "    </tr>\n",
       "    <tr>\n",
       "      <th>25%</th>\n",
       "      <td>-6.990786e-01</td>\n",
       "      <td>-4.711381e-01</td>\n",
       "      <td>-2.350560e-01</td>\n",
       "      <td>-5.425741e-01</td>\n",
       "      <td>-5.172360e-01</td>\n",
       "      <td>-4.336926e-01</td>\n",
       "      <td>-2.267277e-01</td>\n",
       "      <td>-5.517820e-01</td>\n",
       "      <td>-5.845455e-01</td>\n",
       "      <td>-5.432598e-01</td>\n",
       "      <td>-6.008350e-01</td>\n",
       "      <td>-6.114713e-01</td>\n",
       "      <td>-5.956138e-01</td>\n",
       "    </tr>\n",
       "    <tr>\n",
       "      <th>50%</th>\n",
       "      <td>-3.415839e-01</td>\n",
       "      <td>6.234554e-02</td>\n",
       "      <td>1.069960e-01</td>\n",
       "      <td>1.723701e-02</td>\n",
       "      <td>-2.356598e-01</td>\n",
       "      <td>-2.374337e-01</td>\n",
       "      <td>-2.267277e-01</td>\n",
       "      <td>-2.755272e-01</td>\n",
       "      <td>-2.517323e-01</td>\n",
       "      <td>-2.156835e-01</td>\n",
       "      <td>-1.954246e-01</td>\n",
       "      <td>-2.158961e-01</td>\n",
       "      <td>-2.440317e-01</td>\n",
       "    </tr>\n",
       "    <tr>\n",
       "      <th>75%</th>\n",
       "      <td>5.164036e-01</td>\n",
       "      <td>5.958292e-01</td>\n",
       "      <td>4.490479e-01</td>\n",
       "      <td>5.770481e-01</td>\n",
       "      <td>1.765775e-01</td>\n",
       "      <td>-3.323612e-02</td>\n",
       "      <td>-2.267277e-01</td>\n",
       "      <td>2.833329e-01</td>\n",
       "      <td>3.157477e-01</td>\n",
       "      <td>2.660464e-01</td>\n",
       "      <td>3.784523e-01</td>\n",
       "      <td>3.221427e-01</td>\n",
       "      <td>3.426990e-01</td>\n",
       "    </tr>\n",
       "    <tr>\n",
       "      <th>max</th>\n",
       "      <td>4.019852e+00</td>\n",
       "      <td>4.330215e+00</td>\n",
       "      <td>3.527516e+00</td>\n",
       "      <td>3.935915e+00</td>\n",
       "      <td>3.268356e+00</td>\n",
       "      <td>3.989853e+00</td>\n",
       "      <td>4.084306e+00</td>\n",
       "      <td>3.179244e+00</td>\n",
       "      <td>3.048358e+00</td>\n",
       "      <td>3.141652e+00</td>\n",
       "      <td>3.037329e+00</td>\n",
       "      <td>3.132249e+00</td>\n",
       "      <td>3.081224e+00</td>\n",
       "    </tr>\n",
       "  </tbody>\n",
       "</table>\n",
       "</div>"
      ],
      "text/plain": [
       "                Age  Number_children  education_level  total_members  \\\n",
       "count  1.429000e+03     1.429000e+03     1.429000e+03   1.429000e+03   \n",
       "mean   3.224231e-17    -6.922384e-17    -2.622115e-17   9.574605e-17   \n",
       "std    1.000000e+00     1.000000e+00     1.000000e+00   1.000000e+00   \n",
       "min   -1.271070e+00    -1.538105e+00    -2.629420e+00  -2.222007e+00   \n",
       "25%   -6.990786e-01    -4.711381e-01    -2.350560e-01  -5.425741e-01   \n",
       "50%   -3.415839e-01     6.234554e-02     1.069960e-01   1.723701e-02   \n",
       "75%    5.164036e-01     5.958292e-01     4.490479e-01   5.770481e-01   \n",
       "max    4.019852e+00     4.330215e+00     3.527516e+00   3.935915e+00   \n",
       "\n",
       "       gained_asset  durable_asset    save_asset  living_expenses  \\\n",
       "count  1.429000e+03   1.429000e+03  1.429000e+03     1.429000e+03   \n",
       "mean  -1.184031e-16   7.066115e-17  1.527431e-16    -1.760508e-16   \n",
       "std    1.000000e+00   1.000000e+00  1.000000e+00     1.000000e+00   \n",
       "min   -1.662265e+00  -1.487625e+00 -1.535191e+00    -1.533153e+00   \n",
       "25%   -5.172360e-01  -4.336926e-01 -2.267277e-01    -5.517820e-01   \n",
       "50%   -2.356598e-01  -2.374337e-01 -2.267277e-01    -2.755272e-01   \n",
       "75%    1.765775e-01  -3.323612e-02 -2.267277e-01     2.833329e-01   \n",
       "max    3.268356e+00   3.989853e+00  4.084306e+00     3.179244e+00   \n",
       "\n",
       "       other_expenses  incoming_agricultural  farm_expenses  \\\n",
       "count    1.429000e+03           1.429000e+03   1.429000e+03   \n",
       "mean    -1.323877e-16           3.022231e-17  -1.910454e-16   \n",
       "std      1.000000e+00           1.000000e+00   1.000000e+00   \n",
       "min     -1.543284e+00          -1.645227e+00  -1.667321e+00   \n",
       "25%     -5.845455e-01          -5.432598e-01  -6.008350e-01   \n",
       "50%     -2.517323e-01          -2.156835e-01  -1.954246e-01   \n",
       "75%      3.157477e-01           2.660464e-01   3.784523e-01   \n",
       "max      3.048358e+00           3.141652e+00   3.037329e+00   \n",
       "\n",
       "       lasting_investment  no_lasting_investmen  \n",
       "count        1.429000e+03          1.429000e+03  \n",
       "mean        -5.345231e-17         -1.824992e-16  \n",
       "std          1.000000e+00          1.000000e+00  \n",
       "min         -1.551546e+00         -1.556566e+00  \n",
       "25%         -6.114713e-01         -5.956138e-01  \n",
       "50%         -2.158961e-01         -2.440317e-01  \n",
       "75%          3.221427e-01          3.426990e-01  \n",
       "max          3.132249e+00          3.081224e+00  "
      ]
     },
     "execution_count": 30,
     "metadata": {},
     "output_type": "execute_result"
    }
   ],
   "source": [
    "data.describe()"
   ]
  },
  {
   "cell_type": "markdown",
   "id": "1261c2d3",
   "metadata": {},
   "source": [
    "**Разделение данных на обучающую и тестовую выборки**"
   ]
  },
  {
   "cell_type": "code",
   "execution_count": 31,
   "id": "20e16029",
   "metadata": {},
   "outputs": [
    {
     "data": {
      "text/plain": [
       "(1429, 20)"
      ]
     },
     "execution_count": 31,
     "metadata": {},
     "output_type": "execute_result"
    }
   ],
   "source": [
    "X = data\n",
    "y = target\n",
    "N, d = X.shape\n",
    "N, d"
   ]
  },
  {
   "cell_type": "code",
   "execution_count": 32,
   "id": "799ad35b",
   "metadata": {},
   "outputs": [
    {
     "data": {
      "text/plain": [
       "(1286, 143)"
      ]
     },
     "execution_count": 32,
     "metadata": {},
     "output_type": "execute_result"
    }
   ],
   "source": [
    "from sklearn.model_selection import train_test_split\n",
    "X_train, X_test, y_train, y_test = train_test_split(X, y, test_size = 0.1, random_state = 777)\n",
    "\n",
    "N_train, _ = X_train.shape \n",
    "N_test,  _ = X_test.shape \n",
    "\n",
    "N_train, N_test"
   ]
  },
  {
   "cell_type": "markdown",
   "id": "66f34335",
   "metadata": {},
   "source": [
    "**Метод k-ближайших соседей (kNN)**"
   ]
  },
  {
   "cell_type": "markdown",
   "id": "7eff7e39",
   "metadata": {},
   "source": [
    "Переберем количество соседей от 1 до 100 и определим оптимальное (с наименьшей ошибкой кросс-валидации) количество:"
   ]
  },
  {
   "cell_type": "code",
   "execution_count": 33,
   "id": "03f77725",
   "metadata": {},
   "outputs": [
    {
     "name": "stdout",
     "output_type": "stream",
     "text": [
      "Ошибка на кросс-валидации:  0.1671854734111543\n",
      "Оптимальное количество соседей:  30\n"
     ]
    }
   ],
   "source": [
    "grid = GridSearchCV(KNeighborsClassifier(), param_grid = {'n_neighbors': range(1, 101)}, cv = 5)\n",
    "grid.fit(X_train, y_train)\n",
    "\n",
    "best_cv_err = 1 - grid.best_score_\n",
    "best_n_neighbors = grid.best_estimator_.n_neighbors\n",
    "\n",
    "print('Ошибка на кросс-валидации: ', best_cv_err)\n",
    "print('Оптимальное количество соседей: ', best_n_neighbors)"
   ]
  },
  {
   "cell_type": "markdown",
   "id": "c50dc699",
   "metadata": {},
   "source": [
    "Обучим и запустим kNN для оптимального среди рассмотренных количества соседей:"
   ]
  },
  {
   "cell_type": "code",
   "execution_count": 34,
   "id": "52c3a958",
   "metadata": {},
   "outputs": [
    {
     "name": "stdout",
     "output_type": "stream",
     "text": [
      "Ошибка на обучающей выборке:  0.1671850699844479\n",
      "Ошибка на тестовой выборке:  0.16083916083916083\n"
     ]
    }
   ],
   "source": [
    "knn = KNeighborsClassifier()\n",
    "\n",
    "knn.set_params(n_neighbors = best_n_neighbors)\n",
    "knn.fit(X_train, y_train)\n",
    "\n",
    "err_train = np.mean(y_train != knn.predict(X_train))\n",
    "err_test  = np.mean(y_test  != knn.predict(X_test))\n",
    "\n",
    "print('Ошибка на обучающей выборке: ', err_train)\n",
    "print('Ошибка на тестовой выборке: ', err_test)"
   ]
  },
  {
   "cell_type": "markdown",
   "id": "baf05bbe",
   "metadata": {},
   "source": [
    "**SVC**"
   ]
  },
  {
   "cell_type": "code",
   "execution_count": 35,
   "id": "d81783d5",
   "metadata": {},
   "outputs": [
    {
     "name": "stdout",
     "output_type": "stream",
     "text": [
      "Ошибка на обучающей выборке:  0.1671850699844479\n",
      "Ошибка на тестовой выборке:  0.16083916083916083\n"
     ]
    }
   ],
   "source": [
    "svc = SVC(gamma = 'auto')\n",
    "svc.fit(X_train, y_train)\n",
    "\n",
    "err_train = np.mean(y_train != svc.predict(X_train))\n",
    "err_test  = np.mean(y_test  != svc.predict(X_test))\n",
    "\n",
    "print('Ошибка на обучающей выборке: ', err_train)\n",
    "print('Ошибка на тестовой выборке: ', err_test)"
   ]
  },
  {
   "cell_type": "markdown",
   "id": "0049549a",
   "metadata": {},
   "source": [
    "**Random Forest**"
   ]
  },
  {
   "cell_type": "code",
   "execution_count": 36,
   "id": "f721e065",
   "metadata": {},
   "outputs": [
    {
     "name": "stdout",
     "output_type": "stream",
     "text": [
      "Ошибка на обучающей выборке:  0.01010886469673406\n",
      "Ошибка на тестовой выборке:  0.1888111888111888\n"
     ]
    }
   ],
   "source": [
    "rf = ensemble.RandomForestClassifier(n_estimators = 100)\n",
    "rf.fit(X_train, y_train)\n",
    "\n",
    "err_train = np.mean(y_train != rf.predict(X_train))\n",
    "err_test  = np.mean(y_test  != rf.predict(X_test))\n",
    "\n",
    "print('Ошибка на обучающей выборке: ', err_train)\n",
    "print('Ошибка на тестовой выборке: ', err_test)"
   ]
  },
  {
   "cell_type": "markdown",
   "id": "c0a477d0",
   "metadata": {},
   "source": [
    "**Extremely Randomized Trees**"
   ]
  },
  {
   "cell_type": "code",
   "execution_count": 37,
   "id": "776df019",
   "metadata": {},
   "outputs": [
    {
     "name": "stdout",
     "output_type": "stream",
     "text": [
      "Ошибка на обучающей выборке:  0.01010886469673406\n",
      "Ошибка на тестовой выборке:  0.1888111888111888\n"
     ]
    }
   ],
   "source": [
    "ert = ensemble.ExtraTreesClassifier(n_estimators = 100).fit(X_train, y_train)\n",
    "\n",
    "err_train = np.mean(y_train != ert.predict(X_train))\n",
    "err_test  = np.mean(y_test  != ert.predict(X_test))\n",
    "\n",
    "print('Ошибка на обучающей выборке: ', err_train)\n",
    "print('Ошибка на тестовой выборке: ', err_test)"
   ]
  },
  {
   "cell_type": "markdown",
   "id": "bd4eb488",
   "metadata": {},
   "source": [
    "**AdaBoost**"
   ]
  },
  {
   "cell_type": "code",
   "execution_count": 38,
   "id": "61ab3ec2",
   "metadata": {},
   "outputs": [
    {
     "name": "stdout",
     "output_type": "stream",
     "text": [
      "Ошибка на обучающей выборке:  0.13919129082426127\n",
      "Ошибка на тестовой выборке:  0.2097902097902098\n"
     ]
    }
   ],
   "source": [
    "ada = ensemble.AdaBoostClassifier(n_estimators = 100)\n",
    "ada.fit(X_train, y_train)\n",
    "\n",
    "err_train = np.mean(y_train != ada.predict(X_train))\n",
    "err_test = np.mean(y_test != ada.predict(X_test))\n",
    "\n",
    "print('Ошибка на обучающей выборке: ', err_train)\n",
    "print('Ошибка на тестовой выборке: ', err_test)"
   ]
  },
  {
   "cell_type": "markdown",
   "id": "732bea91",
   "metadata": {},
   "source": [
    "**GBT**"
   ]
  },
  {
   "cell_type": "code",
   "execution_count": 39,
   "id": "0294953f",
   "metadata": {},
   "outputs": [
    {
     "name": "stdout",
     "output_type": "stream",
     "text": [
      "Ошибка на обучающей выборке:  0.12674961119751166\n",
      "Ошибка на тестовой выборке:  0.21678321678321677\n"
     ]
    }
   ],
   "source": [
    "gbt = ensemble.GradientBoostingClassifier(n_estimators = 100)\n",
    "gbt.fit(X_train, y_train)\n",
    "\n",
    "err_train = np.mean(y_train != gbt.predict(X_train))\n",
    "err_test = np.mean(y_test != gbt.predict(X_test))\n",
    "\n",
    "print('Ошибка на обучающей выборке: ', err_train)\n",
    "print('Ошибка на тестовой выборке: ', err_test)"
   ]
  },
  {
   "cell_type": "markdown",
   "id": "96277dcb",
   "metadata": {},
   "source": [
    "**Выводы о результатах классификации:**\n",
    "\n",
    "    1. Для оптимального (с наименьшей ошибкой кросс-валидации) количества соседей было получено, что метод kNN ошибся на обучающей выборке в 16.7% случаев, а на тестовой - в 16.1%\n",
    "    2. Для метода опорных векторов ошибка фналогична kNN.\n",
    "    3. Для классификаторов случайный лес и экстремально случайный лес ошибка на обучащей выборке 1%, а на тестовой около 18.9%.\n",
    "    4. Для алгоритма AdaBoost ошибка на обучающей выборке составила 14%, а на тестовой – 21%.\n",
    "    5. Для градиентного бустинга деревьев решений ошибка на обучающей и тестовой выборках составила 12.7% и 21.7% соответственно."
   ]
  },
  {
   "cell_type": "markdown",
   "id": "ff29db7e",
   "metadata": {},
   "source": [
    "Ошибка на тестовой выборке большая. Это возможно связать с тем, что у людей существует разная предрасположенность к возникновению депрессий. Большое влияние оказывает характер, который в данных реалях рассмотреть невозможно."
   ]
  },
  {
   "cell_type": "markdown",
   "id": "aee180f7",
   "metadata": {},
   "source": [
    "Так же на точность классификации могла отрицательно повлиять несбалансированность классов"
   ]
  },
  {
   "cell_type": "markdown",
   "id": "90ca52b3",
   "metadata": {},
   "source": [
    "**Нейронная сеть**"
   ]
  },
  {
   "cell_type": "markdown",
   "id": "158fd2dc",
   "metadata": {},
   "source": [
    "Разделение данных на обучающую и тестовую выборки"
   ]
  },
  {
   "cell_type": "code",
   "execution_count": 40,
   "id": "6828e924",
   "metadata": {},
   "outputs": [
    {
     "data": {
      "text/plain": [
       "(1286, 143)"
      ]
     },
     "execution_count": 40,
     "metadata": {},
     "output_type": "execute_result"
    }
   ],
   "source": [
    "N_train, N_test"
   ]
  },
  {
   "cell_type": "code",
   "execution_count": 41,
   "id": "81286f08",
   "metadata": {},
   "outputs": [],
   "source": [
    "X_train, X_test, y_train, y_test = train_test_split(X, y, \n",
    "                                                    train_size = N_train, test_size = N_test, \n",
    "                                                    stratify = y, random_state = 42)"
   ]
  },
  {
   "cell_type": "code",
   "execution_count": 42,
   "id": "103c7038",
   "metadata": {},
   "outputs": [
    {
     "data": {
      "text/plain": [
       "((1286, 20), (143, 20))"
      ]
     },
     "execution_count": 42,
     "metadata": {},
     "output_type": "execute_result"
    }
   ],
   "source": [
    "X_train.shape, X_test.shape"
   ]
  },
  {
   "cell_type": "markdown",
   "id": "1d0885f3",
   "metadata": {},
   "source": [
    "**Первый способ подбора гиперпараметров**\n",
    "\n",
    "**Подбор оптимального параметра регуляризации alpha (для 1 скрытого слоя из 50 нейронов)**"
   ]
  },
  {
   "cell_type": "code",
   "execution_count": 43,
   "id": "f86465a6",
   "metadata": {},
   "outputs": [],
   "source": [
    "alpha_arr = np.logspace(-3, 2, 21)\n",
    "test_err = []\n",
    "train_err = []\n",
    "train_acc = []\n",
    "test_acc = []\n",
    "\n",
    "for alpha in alpha_arr:\n",
    "    mlp_model = MLPClassifier(alpha = alpha, \n",
    "                              hidden_layer_sizes = 50,\n",
    "                              solver = 'lbfgs', \n",
    "                              max_iter = 1000, \n",
    "                              activation = 'logistic',\n",
    "                              random_state = 42)\n",
    "    \n",
    "    \n",
    "    mlp_model.fit(X_train, y_train)\n",
    "\n",
    "    y_train_pred = mlp_model.predict(X_train)\n",
    "    y_test_pred = mlp_model.predict(X_test)\n",
    "    \n",
    "    train_err.append(np.mean(y_train != y_train_pred))\n",
    "    test_err.append(np.mean(y_test != y_test_pred))\n",
    "    train_acc.append(accuracy_score(y_train, y_train_pred))\n",
    "    test_acc.append(accuracy_score(y_test, y_test_pred))"
   ]
  },
  {
   "cell_type": "code",
   "execution_count": 44,
   "id": "20772f58",
   "metadata": {},
   "outputs": [
    {
     "data": {
      "image/png": "[encoded data removed]",
      "text/plain": [
       "<Figure size 432x288 with 1 Axes>"
      ]
     },
     "metadata": {
      "needs_background": "light"
     },
     "output_type": "display_data"
    }
   ],
   "source": [
    "plt.semilogx(alpha_arr, train_err, 'b-o', label = 'train')\n",
    "plt.semilogx(alpha_arr, test_err, 'r-o', label = 'test')\n",
    "plt.xlim([np.min(alpha_arr), np.max(alpha_arr)])\n",
    "plt.title('Error vs. alpha')\n",
    "plt.xlabel('Alpha')\n",
    "plt.ylabel('Error')\n",
    "plt.legend()\n",
    "pass"
   ]
  },
  {
   "cell_type": "code",
   "execution_count": 45,
   "id": "1c1dd0cd",
   "metadata": {
    "scrolled": true
   },
   "outputs": [
    {
     "name": "stdout",
     "output_type": "stream",
     "text": [
      "Минимальная ошибка на обучающей выборке:  0.01010886469673406\n",
      "Минимальная ошибка на тестовой выборке:  0.16783216783216784\n"
     ]
    }
   ],
   "source": [
    "min_train_err = np.min(train_err)\n",
    "min_test_err = np.min(test_err)\n",
    "print('Минимальная ошибка на обучающей выборке: ', min_train_err)\n",
    "print('Минимальная ошибка на тестовой выборке: ', min_test_err)"
   ]
  },
  {
   "cell_type": "code",
   "execution_count": 46,
   "id": "2152a75c",
   "metadata": {},
   "outputs": [
    {
     "name": "stdout",
     "output_type": "stream",
     "text": [
      "Оптимальное значение alpha:  1.7782794100389228\n"
     ]
    }
   ],
   "source": [
    "alpha_local_opt = alpha_arr[test_err == min_test_err][0]\n",
    "print('Оптимальное значение alpha: ', alpha_local_opt)"
   ]
  },
  {
   "cell_type": "markdown",
   "id": "2fcd5bf4",
   "metadata": {},
   "source": [
    "**Обучение классификатора при оптимальном значении alpha (для 1 скрытого слоя из 50 нейронов)**"
   ]
  },
  {
   "cell_type": "code",
   "execution_count": 47,
   "id": "69453e0f",
   "metadata": {},
   "outputs": [
    {
     "data": {
      "text/plain": [
       "MLPClassifier(activation='logistic', alpha=1.7782794100389228,\n",
       "              hidden_layer_sizes=50, max_iter=1000, random_state=42,\n",
       "              solver='lbfgs')"
      ]
     },
     "execution_count": 47,
     "metadata": {},
     "output_type": "execute_result"
    }
   ],
   "source": [
    "mlp_model = MLPClassifier(alpha = alpha_local_opt, \n",
    "                          hidden_layer_sizes = 50,\n",
    "                          solver = 'lbfgs', \n",
    "                          max_iter = 1000, \n",
    "                          activation = 'logistic',\n",
    "                          random_state = 42)\n",
    "\n",
    "mlp_model.fit(X_train, y_train)"
   ]
  },
  {
   "cell_type": "code",
   "execution_count": 48,
   "id": "58c73483",
   "metadata": {},
   "outputs": [
    {
     "name": "stdout",
     "output_type": "stream",
     "text": [
      "Ошибка на обучающей выборке:  0.1625194401244168\n",
      "Ошибка на тестовой выборке:  0.16783216783216784\n"
     ]
    }
   ],
   "source": [
    "y_train_pred = mlp_model.predict(X_train)\n",
    "y_test_pred = mlp_model.predict(X_test)\n",
    "\n",
    "err_train = np.mean(y_train != y_train_pred)\n",
    "err_test = np.mean(y_test != y_test_pred)\n",
    "\n",
    "print('Ошибка на обучающей выборке: ', err_train)\n",
    "print('Ошибка на тестовой выборке: ', err_test)"
   ]
  },
  {
   "cell_type": "markdown",
   "id": "06a514d5",
   "metadata": {},
   "source": [
    "**Подбор количества нейронов одного скрытого слоя для оптимального (для 1 скрытого слоя из 50 нейронов) значения alpha**"
   ]
  },
  {
   "cell_type": "code",
   "execution_count": 49,
   "id": "e0c16f48",
   "metadata": {},
   "outputs": [
    {
     "name": "stdout",
     "output_type": "stream",
     "text": [
      "Wall time: 10.3 s\n"
     ]
    }
   ],
   "source": [
    "%%time\n",
    "hidden_layer = np.arange(1, 51)\n",
    "test_err = []\n",
    "train_err = []\n",
    "train_acc = []\n",
    "test_acc = []\n",
    "\n",
    "for size in hidden_layer:\n",
    "    mlp_model = MLPClassifier(alpha = alpha_local_opt, \n",
    "                              hidden_layer_sizes = size,\n",
    "                              solver = 'lbfgs', \n",
    "                              max_iter = 1000, \n",
    "                              activation = 'logistic',\n",
    "                              random_state = 42)\n",
    "    \n",
    "    \n",
    "    mlp_model.fit(X_train, y_train)\n",
    "\n",
    "    y_train_pred = mlp_model.predict(X_train)\n",
    "    y_test_pred = mlp_model.predict(X_test)\n",
    "    \n",
    "    train_err.append(np.mean(y_train != y_train_pred))\n",
    "    test_err.append(np.mean(y_test != y_test_pred))\n",
    "    train_acc.append(accuracy_score(y_train, y_train_pred))\n",
    "    test_acc.append(accuracy_score(y_test, y_test_pred))"
   ]
  },
  {
   "cell_type": "code",
   "execution_count": 50,
   "id": "27f77153",
   "metadata": {},
   "outputs": [
    {
     "data": {
      "image/png": "[encoded data removed]",
      "text/plain": [
       "<Figure size 432x288 with 1 Axes>"
      ]
     },
     "metadata": {
      "needs_background": "light"
     },
     "output_type": "display_data"
    }
   ],
   "source": [
    "plt.semilogx(hidden_layer, train_err, 'b-o', label = 'train')\n",
    "plt.semilogx(hidden_layer, test_err, 'r-o', label = 'test')\n",
    "plt.xlim([np.min(hidden_layer), np.max(hidden_layer)])\n",
    "plt.title('Error vs. number of hidden neurons')\n",
    "plt.xlabel('Number of hidden neurons')\n",
    "plt.ylabel('Error')\n",
    "plt.legend()\n",
    "pass"
   ]
  },
  {
   "cell_type": "code",
   "execution_count": 51,
   "id": "eb214aec",
   "metadata": {},
   "outputs": [
    {
     "data": {
      "image/png": "[encoded data removed]",
      "text/plain": [
       "<Figure size 432x288 with 1 Axes>"
      ]
     },
     "metadata": {
      "needs_background": "light"
     },
     "output_type": "display_data"
    }
   ],
   "source": [
    "plt.semilogx(hidden_layer, train_acc, 'b-o', label = 'train')\n",
    "plt.semilogx(hidden_layer, test_acc, 'r-o', label = 'test')\n",
    "plt.xlim([np.min(hidden_layer), np.max(hidden_layer)])\n",
    "plt.title('Accuracy vs. number of hidden neurons')\n",
    "plt.xlabel('Number of hidden neurons')\n",
    "plt.ylabel('Accuracy')\n",
    "plt.legend()\n",
    "pass"
   ]
  },
  {
   "cell_type": "code",
   "execution_count": 52,
   "id": "815bf0c8",
   "metadata": {},
   "outputs": [
    {
     "name": "stdout",
     "output_type": "stream",
     "text": [
      "Минимальная ошибка на обучающей выборке:  0.1578538102643857\n",
      "Минимальная ошибка на тестовой выборке:  0.16783216783216784\n"
     ]
    }
   ],
   "source": [
    "min_train_err = np.min(train_err)\n",
    "min_test_err = np.min(test_err)\n",
    "print('Минимальная ошибка на обучающей выборке: ', min_train_err)\n",
    "print('Минимальная ошибка на тестовой выборке: ', min_test_err)"
   ]
  },
  {
   "cell_type": "code",
   "execution_count": 53,
   "id": "bf37d03c",
   "metadata": {},
   "outputs": [
    {
     "name": "stdout",
     "output_type": "stream",
     "text": [
      "Оптимальное значение количества нейронов скрытого слоя:  1\n"
     ]
    }
   ],
   "source": [
    "hidden_layer_local_opt_1 = hidden_layer[test_err == min_test_err][0]\n",
    "print('Оптимальное значение количества нейронов скрытого слоя: ', hidden_layer_local_opt_1)"
   ]
  },
  {
   "cell_type": "markdown",
   "id": "ca969e57",
   "metadata": {},
   "source": [
    "**Обучение нейронной сети при оптимальном значении alpha (для 1 скрытого слоя из 50 нейронов) и оптимальном количестве нейронов первого скрытого слоя (для данного alpha)**"
   ]
  },
  {
   "cell_type": "code",
   "execution_count": 54,
   "id": "0c77d252",
   "metadata": {},
   "outputs": [
    {
     "data": {
      "text/plain": [
       "MLPClassifier(activation='logistic', alpha=1.7782794100389228,\n",
       "              hidden_layer_sizes=1, max_iter=1000, random_state=42,\n",
       "              solver='lbfgs')"
      ]
     },
     "execution_count": 54,
     "metadata": {},
     "output_type": "execute_result"
    }
   ],
   "source": [
    "mlp_model = MLPClassifier(alpha = alpha_local_opt, \n",
    "                          hidden_layer_sizes = hidden_layer_local_opt_1,\n",
    "                          solver = 'lbfgs', \n",
    "                          max_iter = 1000, \n",
    "                          activation = 'logistic',\n",
    "                          random_state = 42)\n",
    "\n",
    "mlp_model.fit(X_train, y_train)"
   ]
  },
  {
   "cell_type": "code",
   "execution_count": 55,
   "id": "be9334d2",
   "metadata": {},
   "outputs": [
    {
     "name": "stdout",
     "output_type": "stream",
     "text": [
      "Ошибка на обучающей выборке:  0.16640746500777606\n",
      "Ошибка на тестовой выборке:  0.16783216783216784\n"
     ]
    }
   ],
   "source": [
    "y_train_pred = mlp_model.predict(X_train)\n",
    "y_test_pred = mlp_model.predict(X_test)\n",
    "\n",
    "err_train = np.mean(y_train != y_train_pred)\n",
    "err_test = np.mean(y_test != y_test_pred)\n",
    "\n",
    "print('Ошибка на обучающей выборке: ', err_train)\n",
    "print('Ошибка на тестовой выборке: ', err_test)"
   ]
  },
  {
   "cell_type": "markdown",
   "id": "a1f49f73",
   "metadata": {},
   "source": [
    "**Подбор количества нейронов второго скрытого слоя при оптимальном значении alpha (для 1 скрытого слоя из 50 нейронов) и оптимальном количестве нейронов первого скрытого слоя (для данного alpha)**"
   ]
  },
  {
   "cell_type": "code",
   "execution_count": 56,
   "id": "efdb269e",
   "metadata": {},
   "outputs": [],
   "source": [
    "hidden_layer = np.arange(1, 51)\n",
    "test_err = []\n",
    "train_err = []\n",
    "train_acc = []\n",
    "test_acc = []\n",
    "\n",
    "for size in hidden_layer:\n",
    "    mlp_model = MLPClassifier(alpha = alpha_local_opt, \n",
    "                              hidden_layer_sizes = (hidden_layer_local_opt_1, size),\n",
    "                              solver = 'lbfgs', \n",
    "                              max_iter = 1000, \n",
    "                              activation = 'logistic',\n",
    "                              random_state = 42)\n",
    "    \n",
    "    mlp_model.fit(X_train, y_train)\n",
    "\n",
    "    y_train_pred = mlp_model.predict(X_train)\n",
    "    y_test_pred = mlp_model.predict(X_test)\n",
    "    \n",
    "    train_err.append(np.mean(y_train != y_train_pred))\n",
    "    test_err.append(np.mean(y_test != y_test_pred))\n",
    "    train_acc.append(accuracy_score(y_train, y_train_pred))\n",
    "    test_acc.append(accuracy_score(y_test, y_test_pred))"
   ]
  },
  {
   "cell_type": "code",
   "execution_count": 57,
   "id": "85943fe3",
   "metadata": {},
   "outputs": [
    {
     "data": {
      "image/png": "[encoded data removed]",
      "text/plain": [
       "<Figure size 432x288 with 1 Axes>"
      ]
     },
     "metadata": {
      "needs_background": "light"
     },
     "output_type": "display_data"
    }
   ],
   "source": [
    "plt.semilogx(hidden_layer, train_err, 'b-o', label = 'train')\n",
    "plt.semilogx(hidden_layer, test_err, 'r-o', label = 'test')\n",
    "plt.xlim([np.min(hidden_layer), np.max(hidden_layer)])\n",
    "plt.title('Error vs. number of hidden neurons (second layer)')\n",
    "plt.xlabel('Number of hidden neurons (second layer)')\n",
    "plt.ylabel('Error')\n",
    "plt.legend()\n",
    "pass"
   ]
  },
  {
   "cell_type": "code",
   "execution_count": 58,
   "id": "506ae30d",
   "metadata": {},
   "outputs": [
    {
     "data": {
      "image/png": "[encoded data removed]",
      "text/plain": [
       "<Figure size 432x288 with 1 Axes>"
      ]
     },
     "metadata": {
      "needs_background": "light"
     },
     "output_type": "display_data"
    }
   ],
   "source": [
    "plt.semilogx(hidden_layer, train_acc, 'b-o', label = 'train')\n",
    "plt.semilogx(hidden_layer, test_acc, 'r-o', label = 'test')\n",
    "plt.xlim([np.min(hidden_layer), np.max(hidden_layer)])\n",
    "plt.title('Accuracy vs. number of hidden neurons (second layer)')\n",
    "plt.xlabel('Number of hidden neurons (second layer)')\n",
    "plt.ylabel('Accuracy')\n",
    "plt.legend()\n",
    "pass"
   ]
  },
  {
   "cell_type": "code",
   "execution_count": 59,
   "id": "1899b88a",
   "metadata": {},
   "outputs": [
    {
     "name": "stdout",
     "output_type": "stream",
     "text": [
      "Минимальная ошибка на обучающей выборке:  0.16640746500777606\n",
      "Минимальная ошибка на тестовой выборке:  0.16783216783216784\n"
     ]
    }
   ],
   "source": [
    "min_train_err = np.min(train_err)\n",
    "min_test_err = np.min(test_err)\n",
    "print('Минимальная ошибка на обучающей выборке: ', min_train_err)\n",
    "print('Минимальная ошибка на тестовой выборке: ', min_test_err)"
   ]
  },
  {
   "cell_type": "code",
   "execution_count": 60,
   "id": "78cf100b",
   "metadata": {},
   "outputs": [
    {
     "name": "stdout",
     "output_type": "stream",
     "text": [
      "Оптимальное значение количества нейронов второго скрытого слоя:  1\n"
     ]
    }
   ],
   "source": [
    "hidden_layer_local_opt_2 = hidden_layer[test_err == min_test_err][0]\n",
    "print('Оптимальное значение количества нейронов второго скрытого слоя: ', hidden_layer_local_opt_2)"
   ]
  },
  {
   "cell_type": "markdown",
   "id": "9fe11d12",
   "metadata": {},
   "source": [
    "**Обучение нейронной сети при оптимальном значении alpha (для 1 скрытого слоя из 50 нейронов), оптимальных количествах нейронов первого и второго скрытых слоев**"
   ]
  },
  {
   "cell_type": "code",
   "execution_count": 61,
   "id": "fd36b9dd",
   "metadata": {},
   "outputs": [
    {
     "data": {
      "text/plain": [
       "MLPClassifier(activation='logistic', alpha=1.7782794100389228,\n",
       "              hidden_layer_sizes=(1, 1), max_iter=1000, random_state=42,\n",
       "              solver='lbfgs')"
      ]
     },
     "execution_count": 61,
     "metadata": {},
     "output_type": "execute_result"
    }
   ],
   "source": [
    "mlp_model = MLPClassifier(alpha = alpha_local_opt, \n",
    "                          hidden_layer_sizes = (hidden_layer_local_opt_1, hidden_layer_local_opt_2),\n",
    "                          solver = 'lbfgs', \n",
    "                          max_iter = 1000, \n",
    "                          activation = 'logistic',\n",
    "                          random_state = 42)\n",
    "\n",
    "mlp_model.fit(X_train, y_train)"
   ]
  },
  {
   "cell_type": "code",
   "execution_count": 62,
   "id": "74b6cd72",
   "metadata": {},
   "outputs": [
    {
     "name": "stdout",
     "output_type": "stream",
     "text": [
      "Ошибка на обучающей выборке:  0.16640746500777606\n",
      "Ошибка на тестовой выборке:  0.16783216783216784\n"
     ]
    }
   ],
   "source": [
    "y_train_pred = mlp_model.predict(X_train)\n",
    "y_test_pred = mlp_model.predict(X_test)\n",
    "\n",
    "err_train = np.mean(y_train != y_train_pred)\n",
    "err_test = np.mean(y_test != y_test_pred)\n",
    "\n",
    "print('Ошибка на обучающей выборке: ', err_train)\n",
    "print('Ошибка на тестовой выборке: ', err_test)"
   ]
  },
  {
   "cell_type": "markdown",
   "id": "35b97891",
   "metadata": {},
   "source": [
    "**Второй способ подбора гиперпараметров**\n",
    "\n",
    "**Одновременный перебор alpha и количества нейронов скрытого слоя (для нейронной сети с одним скрытым слоем)**"
   ]
  },
  {
   "cell_type": "code",
   "execution_count": 67,
   "id": "d2de524d",
   "metadata": {},
   "outputs": [],
   "source": [
    "hidden_layer = np.arange(hidden_layer_local_opt_1, hidden_layer_local_opt_1 + 2)\n",
    "alpha_arr = np.logspace(-3, 2, 21)\n",
    "test_err = []\n",
    "train_err = []\n",
    "train_acc = []\n",
    "test_acc = []\n",
    "\n",
    "opt_params = []\n",
    "\n",
    "for size in hidden_layer:\n",
    "    for alpha in alpha_arr:\n",
    "        mlp_model = MLPClassifier(alpha = alpha, \n",
    "                                  hidden_layer_sizes = size,\n",
    "                                  solver = 'lbfgs', \n",
    "                                  max_iter = 1000, \n",
    "                                  activation = 'logistic',\n",
    "                                  random_state = 42)\n",
    "\n",
    "\n",
    "        mlp_model.fit(X_train, y_train)\n",
    "\n",
    "        y_train_pred = mlp_model.predict(X_train)\n",
    "        y_test_pred = mlp_model.predict(X_test)\n",
    "\n",
    "        train_err.append(np.mean(y_train != y_train_pred))\n",
    "        test_err.append(np.mean(y_test != y_test_pred))\n",
    "        train_acc.append(accuracy_score(y_train, y_train_pred))\n",
    "        test_acc.append(accuracy_score(y_test, y_test_pred))\n",
    "        \n",
    "        params = {'alpha': alpha, 'hidden_layer': size} \n",
    "        opt_params.append(params)"
   ]
  },
  {
   "cell_type": "code",
   "execution_count": 68,
   "id": "e7363572",
   "metadata": {},
   "outputs": [
    {
     "name": "stdout",
     "output_type": "stream",
     "text": [
      "Минимальная ошибка на обучающей выборке:  0.15241057542768274\n",
      "Минимальная ошибка на тестовой выборке:  0.16783216783216784\n"
     ]
    }
   ],
   "source": [
    "min_train_err = np.min(train_err)\n",
    "min_test_err = np.min(test_err)\n",
    "print('Минимальная ошибка на обучающей выборке: ', min_train_err)\n",
    "print('Минимальная ошибка на тестовой выборке: ', min_test_err)"
   ]
  },
  {
   "cell_type": "code",
   "execution_count": 69,
   "id": "310bfdea",
   "metadata": {},
   "outputs": [
    {
     "name": "stdout",
     "output_type": "stream",
     "text": [
      "Оптимальное значение количества нейронов скрытого слоя:  1\n",
      "Оптимальное значение alpha:  0.001\n"
     ]
    }
   ],
   "source": [
    "index_opt = 0\n",
    "for index in range(len(test_err)):\n",
    "    if test_err[index] == min_test_err:\n",
    "        index_opt = index\n",
    "        break\n",
    "        \n",
    "hidden_layer_opt = opt_params[index_opt]['hidden_layer']\n",
    "print('Оптимальное значение количества нейронов скрытого слоя: ', hidden_layer_opt)\n",
    "\n",
    "alpha_opt = opt_params[index_opt]['alpha']\n",
    "print('Оптимальное значение alpha: ', alpha_opt)"
   ]
  },
  {
   "cell_type": "markdown",
   "id": "6db254ea",
   "metadata": {},
   "source": [
    "**Одновременный перебор alpha, количества нейронов первого и второго скрытых слоев**"
   ]
  },
  {
   "cell_type": "code",
   "execution_count": 71,
   "id": "4cc6e1ea",
   "metadata": {},
   "outputs": [],
   "source": [
    "hidden_layer_first = np.arange(hidden_layer_local_opt_1, hidden_layer_local_opt_1 + 2)\n",
    "hidden_layer_second = np.arange(hidden_layer_local_opt_2, hidden_layer_local_opt_2 + 2)\n",
    "alpha_arr = np.logspace(-3, 2, 21)\n",
    "test_err = []\n",
    "train_err = []\n",
    "train_acc = []\n",
    "test_acc = []\n",
    "\n",
    "opt_params = []\n",
    "\n",
    "for size_first in hidden_layer_first:\n",
    "    for size_second in hidden_layer_second:\n",
    "        for alpha in alpha_arr:\n",
    "            mlp_model = MLPClassifier(alpha = alpha, \n",
    "                                      hidden_layer_sizes = (size_first, size_second), \n",
    "                                      solver = 'lbfgs', \n",
    "                                      max_iter = 1000, \n",
    "                                      activation = 'logistic',\n",
    "                                      random_state = 42)\n",
    "\n",
    "\n",
    "            mlp_model.fit(X_train, y_train)\n",
    "\n",
    "            y_train_pred = mlp_model.predict(X_train)\n",
    "            y_test_pred = mlp_model.predict(X_test)\n",
    "\n",
    "            train_err.append(np.mean(y_train != y_train_pred))\n",
    "            test_err.append(np.mean(y_test != y_test_pred))\n",
    "            train_acc.append(accuracy_score(y_train, y_train_pred))\n",
    "            test_acc.append(accuracy_score(y_test, y_test_pred))\n",
    "            \n",
    "            params = {'alpha': alpha, 'hidden_layer_first': size_first, 'hidden_layer_second': size_second} \n",
    "            opt_params.append(params)"
   ]
  },
  {
   "cell_type": "code",
   "execution_count": 72,
   "id": "846a50b4",
   "metadata": {},
   "outputs": [
    {
     "name": "stdout",
     "output_type": "stream",
     "text": [
      "Минимальная ошибка на обучающей выборке:  0.13530326594090203\n",
      "Минимальная ошибка на тестовой выборке:  0.16783216783216784\n"
     ]
    }
   ],
   "source": [
    "min_train_err = np.min(train_err)\n",
    "min_test_err = np.min(test_err)\n",
    "print('Минимальная ошибка на обучающей выборке: ', min_train_err)\n",
    "print('Минимальная ошибка на тестовой выборке: ', min_test_err)"
   ]
  },
  {
   "cell_type": "code",
   "execution_count": 73,
   "id": "c72af1ce",
   "metadata": {},
   "outputs": [
    {
     "name": "stdout",
     "output_type": "stream",
     "text": [
      "Оптимальное значение количества нейронов первого скрытого слоя:  1\n",
      "Оптимальное значение количества нейронов второго скрытого слоя:  1\n",
      "Оптимальное значение alpha:  0.001\n"
     ]
    }
   ],
   "source": [
    "index_opt = 0\n",
    "for index in range(len(test_err)):\n",
    "    if test_err[index] == min_test_err:\n",
    "        index_opt = index\n",
    "        break\n",
    "        \n",
    "hidden_layer_opt_1 = opt_params[index_opt]['hidden_layer_first']\n",
    "print('Оптимальное значение количества нейронов первого скрытого слоя: ', hidden_layer_opt_1)\n",
    "\n",
    "hidden_layer_opt_2 = opt_params[index_opt]['hidden_layer_second']\n",
    "print('Оптимальное значение количества нейронов второго скрытого слоя: ', hidden_layer_opt_2)\n",
    "\n",
    "alpha_opt = opt_params[index_opt]['alpha']\n",
    "print('Оптимальное значение alpha: ', alpha_opt)"
   ]
  },
  {
   "cell_type": "markdown",
   "id": "bc9be06c",
   "metadata": {},
   "source": [
    "**Выводы**\n",
    "\n",
    "        1. Наименьшая ошибка на тестовой выборке составила 16.78% (результат лучше, чем для других классификаторов).\n",
    "        2. Данный результат был достигнут при параметре alpha ≈ 0.001, количестве нейронов первого и второго скрытых слоев, равных 1 и 1 соответственно.\n",
    "        3. Поскольку качество обучения нейронных сетей зависит от количества входных данных, то при увеличении обучающей выборки может быть достигнут результат, лучший предыдущего.\n",
    "        4. Гиперпараметры перебирались в узких диапазонах. При увеличении диапазонов может быть достигнута меньшая ошибка."
   ]
  },
  {
   "cell_type": "markdown",
   "id": "c9c6be27",
   "metadata": {},
   "source": [
    "**Метод главных компонент (PCA)**"
   ]
  },
  {
   "cell_type": "markdown",
   "id": "deb1a6a1",
   "metadata": {},
   "source": [
    "Посмотрим на значения корреляций:"
   ]
  },
  {
   "cell_type": "code",
   "execution_count": 74,
   "id": "8240461b",
   "metadata": {},
   "outputs": [
    {
     "data": {
      "text/plain": [
       "Number_children  total_members    0.781731\n",
       "dtype: float64"
      ]
     },
     "execution_count": 74,
     "metadata": {},
     "output_type": "execute_result"
    }
   ],
   "source": [
    "new_data = pd.DataFrame(data = X)\n",
    "corr_mat = new_data.corr()\n",
    "corr_mat.where(np.triu(corr_mat > 0.5, k=1)).stack().sort_values(ascending = False)"
   ]
  },
  {
   "cell_type": "markdown",
   "id": "18d3e0b5",
   "metadata": {},
   "source": [
    "Запустим метод главных компонент для уменьшения числа признаков. Будем выбирать количество главных компонент таким образом, чтобы объясненная дисперсия была не меньше некоторого заданного уровня – 0.85."
   ]
  },
  {
   "cell_type": "code",
   "execution_count": 75,
   "id": "e7e19265",
   "metadata": {},
   "outputs": [
    {
     "name": "stdout",
     "output_type": "stream",
     "text": [
      "(1429, 20)\n",
      "(1429, 11)\n"
     ]
    }
   ],
   "source": [
    "from sklearn.decomposition import PCA\n",
    "pca_model = PCA(n_components = 0.85) # сохраняем 85% дисперсии\n",
    "pca_model.fit(X)\n",
    "X_proj = pca_model.transform(X)\n",
    "print(X.shape)\n",
    "print(X_proj.shape)"
   ]
  },
  {
   "cell_type": "markdown",
   "id": "09fc8bfd",
   "metadata": {},
   "source": [
    "Количество признаком уменьшилось с 20 до 11"
   ]
  },
  {
   "cell_type": "code",
   "execution_count": 76,
   "id": "ad19a0e9",
   "metadata": {
    "scrolled": true
   },
   "outputs": [
    {
     "data": {
      "image/png": "[encoded data removed]",
      "text/plain": [
       "<Figure size 432x288 with 2 Axes>"
      ]
     },
     "metadata": {
      "needs_background": "light"
     },
     "output_type": "display_data"
    }
   ],
   "source": [
    "new_data = pd.DataFrame(data = X_proj)\n",
    "corr_mat = new_data.corr()\n",
    "sns.heatmap(corr_mat, square = True, cmap = 'Blues')\n",
    "pass"
   ]
  },
  {
   "cell_type": "markdown",
   "id": "eafc1823",
   "metadata": {},
   "source": [
    "Оставшиеся признаки не коррелируют друг с другом.\n",
    "\n"
   ]
  },
  {
   "cell_type": "markdown",
   "id": "1914c459",
   "metadata": {},
   "source": [
    "**Балансировка классов**\n",
    "\n",
    "\n",
    "Прежде чем переходить к балансировке классов, посмотрим, какое процентное соотношение имеется на данный момент:"
   ]
  },
  {
   "cell_type": "code",
   "execution_count": 78,
   "id": "fc32a8a5",
   "metadata": {},
   "outputs": [
    {
     "data": {
      "image/png": "[encoded data removed]",
      "text/plain": [
       "<Figure size 432x288 with 1 Axes>"
      ]
     },
     "metadata": {},
     "output_type": "display_data"
    }
   ],
   "source": [
    "plt.pie(y.value_counts(), labels = [\"depressed\", \"No depressed\"], colors = sns.color_palette(\"YlOrBr\"), autopct = '%1.1f%%')\n",
    "pass"
   ]
  },
  {
   "cell_type": "code",
   "execution_count": 79,
   "id": "a455fb2d",
   "metadata": {},
   "outputs": [
    {
     "data": {
      "text/plain": [
       "0    1191\n",
       "1     238\n",
       "Name: depressed, dtype: int64"
      ]
     },
     "execution_count": 79,
     "metadata": {},
     "output_type": "execute_result"
    }
   ],
   "source": [
    "y.value_counts()"
   ]
  },
  {
   "cell_type": "code",
   "execution_count": 80,
   "id": "3e4bf22e",
   "metadata": {},
   "outputs": [],
   "source": [
    "from imblearn.under_sampling import NearMiss\n",
    "nm = NearMiss()\n",
    "X_miss, y_miss = nm.fit_resample(new_data, target.ravel())"
   ]
  },
  {
   "cell_type": "code",
   "execution_count": 83,
   "id": "5f04b95d",
   "metadata": {},
   "outputs": [
    {
     "data": {
      "text/plain": [
       "array([0, 0, 0, 0, 0, 0, 0, 0, 0, 0, 0, 0, 0, 0, 0, 0, 0, 0, 0, 0, 0, 0,\n",
       "       0, 0, 0, 0, 0, 0, 0, 0, 0, 0, 0, 0, 0, 0, 0, 0, 0, 0, 0, 0, 0, 0,\n",
       "       0, 0, 0, 0, 0, 0, 0, 0, 0, 0, 0, 0, 0, 0, 0, 0, 0, 0, 0, 0, 0, 0,\n",
       "       0, 0, 0, 0, 0, 0, 0, 0, 0, 0, 0, 0, 0, 0, 0, 0, 0, 0, 0, 0, 0, 0,\n",
       "       0, 0, 0, 0, 0, 0, 0, 0, 0, 0, 0, 0, 0, 0, 0, 0, 0, 0, 0, 0, 0, 0,\n",
       "       0, 0, 0, 0, 0, 0, 0, 0, 0, 0, 0, 0, 0, 0, 0, 0, 0, 0, 0, 0, 0, 0,\n",
       "       0, 0, 0, 0, 0, 0, 0, 0, 0, 0, 0, 0, 0, 0, 0, 0, 0, 0, 0, 0, 0, 0,\n",
       "       0, 0, 0, 0, 0, 0, 0, 0, 0, 0, 0, 0, 0, 0, 0, 0, 0, 0, 0, 0, 0, 0,\n",
       "       0, 0, 0, 0, 0, 0, 0, 0, 0, 0, 0, 0, 0, 0, 0, 0, 0, 0, 0, 0, 0, 0,\n",
       "       0, 0, 0, 0, 0, 0, 0, 0, 0, 0, 0, 0, 0, 0, 0, 0, 0, 0, 0, 0, 0, 0,\n",
       "       0, 0, 0, 0, 0, 0, 0, 0, 0, 0, 0, 0, 0, 0, 0, 0, 0, 0, 1, 1, 1, 1,\n",
       "       1, 1, 1, 1, 1, 1, 1, 1, 1, 1, 1, 1, 1, 1, 1, 1, 1, 1, 1, 1, 1, 1,\n",
       "       1, 1, 1, 1, 1, 1, 1, 1, 1, 1, 1, 1, 1, 1, 1, 1, 1, 1, 1, 1, 1, 1,\n",
       "       1, 1, 1, 1, 1, 1, 1, 1, 1, 1, 1, 1, 1, 1, 1, 1, 1, 1, 1, 1, 1, 1,\n",
       "       1, 1, 1, 1, 1, 1, 1, 1, 1, 1, 1, 1, 1, 1, 1, 1, 1, 1, 1, 1, 1, 1,\n",
       "       1, 1, 1, 1, 1, 1, 1, 1, 1, 1, 1, 1, 1, 1, 1, 1, 1, 1, 1, 1, 1, 1,\n",
       "       1, 1, 1, 1, 1, 1, 1, 1, 1, 1, 1, 1, 1, 1, 1, 1, 1, 1, 1, 1, 1, 1,\n",
       "       1, 1, 1, 1, 1, 1, 1, 1, 1, 1, 1, 1, 1, 1, 1, 1, 1, 1, 1, 1, 1, 1,\n",
       "       1, 1, 1, 1, 1, 1, 1, 1, 1, 1, 1, 1, 1, 1, 1, 1, 1, 1, 1, 1, 1, 1,\n",
       "       1, 1, 1, 1, 1, 1, 1, 1, 1, 1, 1, 1, 1, 1, 1, 1, 1, 1, 1, 1, 1, 1,\n",
       "       1, 1, 1, 1, 1, 1, 1, 1, 1, 1, 1, 1, 1, 1, 1, 1, 1, 1, 1, 1, 1, 1,\n",
       "       1, 1, 1, 1, 1, 1, 1, 1, 1, 1, 1, 1, 1, 1], dtype=int64)"
      ]
     },
     "execution_count": 83,
     "metadata": {},
     "output_type": "execute_result"
    }
   ],
   "source": [
    "y_miss"
   ]
  },
  {
   "cell_type": "code",
   "execution_count": 86,
   "id": "2c931a42",
   "metadata": {
    "scrolled": true
   },
   "outputs": [
    {
     "name": "stdout",
     "output_type": "stream",
     "text": [
      "После применения метода кол-во меток со значением \"depressed\": 238\n",
      "После применения метода кол-во меток со значением \"No depressed\": 238\n"
     ]
    }
   ],
   "source": [
    "print('После применения метода кол-во меток со значением \"depressed\": {}'.format(sum(y_miss == 0)))\n",
    "print('После применения метода кол-во меток со значением \"No depressed\": {}'.format(sum(y_miss == 1)))"
   ]
  },
  {
   "cell_type": "markdown",
   "id": "5fe6b005",
   "metadata": {},
   "source": [
    "Разобьем данные на обучающую и тестовую выборки в пропорции 9:1 (90% – обучающая выборка, 10% – тестовая):"
   ]
  },
  {
   "cell_type": "code",
   "execution_count": 87,
   "id": "315b642a",
   "metadata": {},
   "outputs": [
    {
     "data": {
      "text/plain": [
       "(428, 48)"
      ]
     },
     "execution_count": 87,
     "metadata": {},
     "output_type": "execute_result"
    }
   ],
   "source": [
    "from sklearn.model_selection import train_test_split\n",
    "X_train, X_test, y_train, y_test = train_test_split(X_miss, y_miss, test_size = 0.1, random_state = 42)\n",
    "\n",
    "N_train, _ = X_train.shape \n",
    "N_test,  _ = X_test.shape \n",
    "\n",
    "N_train, N_test"
   ]
  },
  {
   "cell_type": "markdown",
   "id": "c678af4b",
   "metadata": {},
   "source": [
    "**Метод k-ближайших соседей (kNN)**"
   ]
  },
  {
   "cell_type": "markdown",
   "id": "6c2d525f",
   "metadata": {},
   "source": [
    "Переберем количество соседей от 1 до 20 и определим оптимальное (с наименьшей ошибкой кросс-валидации) количество:"
   ]
  },
  {
   "cell_type": "code",
   "execution_count": 88,
   "id": "0de641fd",
   "metadata": {},
   "outputs": [
    {
     "name": "stdout",
     "output_type": "stream",
     "text": [
      "Ошибка на кросс-валидации:  0.2267305061559507\n",
      "Оптимальное количество соседей:  2\n"
     ]
    }
   ],
   "source": [
    "grid = GridSearchCV(KNeighborsClassifier(), param_grid = {'n_neighbors': range(1, 21)}, cv = 5)\n",
    "grid.fit(X_train, y_train)\n",
    "\n",
    "best_cv_err = 1 - grid.best_score_\n",
    "best_n_neighbors = grid.best_estimator_.n_neighbors\n",
    "\n",
    "print('Ошибка на кросс-валидации: ', best_cv_err)\n",
    "print('Оптимальное количество соседей: ', best_n_neighbors)"
   ]
  },
  {
   "cell_type": "code",
   "execution_count": 89,
   "id": "b6469904",
   "metadata": {},
   "outputs": [
    {
     "name": "stdout",
     "output_type": "stream",
     "text": [
      "Ошибка на обучающей выборке:  0.14485981308411214\n",
      "Ошибка на тестовой выборке:  0.1875\n"
     ]
    }
   ],
   "source": [
    "knn = KNeighborsClassifier()\n",
    "\n",
    "knn.set_params(n_neighbors = best_n_neighbors)\n",
    "knn.fit(X_train, y_train)\n",
    "\n",
    "err_train = np.mean(y_train != knn.predict(X_train))\n",
    "err_test  = np.mean(y_test  != knn.predict(X_test))\n",
    "\n",
    "print('Ошибка на обучающей выборке: ', err_train)\n",
    "print('Ошибка на тестовой выборке: ', err_test)"
   ]
  },
  {
   "cell_type": "markdown",
   "id": "9af18847",
   "metadata": {},
   "source": [
    "**SVC**"
   ]
  },
  {
   "cell_type": "code",
   "execution_count": 90,
   "id": "68d424fb",
   "metadata": {},
   "outputs": [
    {
     "name": "stdout",
     "output_type": "stream",
     "text": [
      "Ошибка на обучающей выборке:  0.14719626168224298\n",
      "Ошибка на тестовой выборке:  0.10416666666666667\n"
     ]
    }
   ],
   "source": [
    "svc = SVC(gamma = 'auto')\n",
    "svc.fit(X_train, y_train)\n",
    "\n",
    "err_train = np.mean(y_train != svc.predict(X_train))\n",
    "err_test  = np.mean(y_test  != svc.predict(X_test))\n",
    "\n",
    "print('Ошибка на обучающей выборке: ', err_train)\n",
    "print('Ошибка на тестовой выборке: ', err_test)"
   ]
  },
  {
   "cell_type": "markdown",
   "id": "300b12a3",
   "metadata": {},
   "source": [
    "**Random Forest**"
   ]
  },
  {
   "cell_type": "code",
   "execution_count": 91,
   "id": "d357e5bc",
   "metadata": {},
   "outputs": [
    {
     "name": "stdout",
     "output_type": "stream",
     "text": [
      "Ошибка на обучающей выборке:  0.030373831775700934\n",
      "Ошибка на тестовой выборке:  0.16666666666666666\n"
     ]
    }
   ],
   "source": [
    "rf = ensemble.RandomForestClassifier(n_estimators = 100)\n",
    "rf.fit(X_train, y_train)\n",
    "\n",
    "err_train = np.mean(y_train != rf.predict(X_train))\n",
    "err_test  = np.mean(y_test  != rf.predict(X_test))\n",
    "\n",
    "print('Ошибка на обучающей выборке: ', err_train)\n",
    "print('Ошибка на тестовой выборке: ', err_test)"
   ]
  },
  {
   "cell_type": "markdown",
   "id": "0ffb151e",
   "metadata": {},
   "source": [
    "**Extremely Randomized Trees**"
   ]
  },
  {
   "cell_type": "code",
   "execution_count": 92,
   "id": "402f703b",
   "metadata": {},
   "outputs": [
    {
     "name": "stdout",
     "output_type": "stream",
     "text": [
      "Ошибка на обучающей выборке:  0.030373831775700934\n",
      "Ошибка на тестовой выборке:  0.14583333333333334\n"
     ]
    }
   ],
   "source": [
    "ert = ensemble.ExtraTreesClassifier(n_estimators = 100).fit(X_train, y_train)\n",
    "\n",
    "err_train = np.mean(y_train != ert.predict(X_train))\n",
    "err_test  = np.mean(y_test  != ert.predict(X_test))\n",
    "\n",
    "print('Ошибка на обучающей выборке: ', err_train)\n",
    "print('Ошибка на тестовой выборке: ', err_test)"
   ]
  },
  {
   "cell_type": "markdown",
   "id": "188793e3",
   "metadata": {},
   "source": [
    "**AdaBoost**"
   ]
  },
  {
   "cell_type": "code",
   "execution_count": 93,
   "id": "1bc9368f",
   "metadata": {},
   "outputs": [
    {
     "name": "stdout",
     "output_type": "stream",
     "text": [
      "Ошибка на aобучающей выборке:  0.056074766355140186\n",
      "Ошибка на тестовой выборке:  0.1875\n"
     ]
    }
   ],
   "source": [
    "ada = ensemble.AdaBoostClassifier(n_estimators = 100)\n",
    "ada.fit(X_train, y_train)\n",
    "\n",
    "err_train = np.mean(y_train != ada.predict(X_train))\n",
    "err_test = np.mean(y_test != ada.predict(X_test))\n",
    "\n",
    "print('Ошибка на aобучающей выборке: ', err_train)\n",
    "print('Ошибка на тестовой выборке: ', err_test)"
   ]
  },
  {
   "cell_type": "markdown",
   "id": "95e55b9f",
   "metadata": {},
   "source": [
    "**GBT**"
   ]
  },
  {
   "cell_type": "code",
   "execution_count": 94,
   "id": "f08f41e6",
   "metadata": {},
   "outputs": [
    {
     "name": "stdout",
     "output_type": "stream",
     "text": [
      "Ошибка на обучающей выборке:  0.04205607476635514\n",
      "Ошибка на тестовой выборке:  0.14583333333333334\n"
     ]
    }
   ],
   "source": [
    "gbt = ensemble.GradientBoostingClassifier(n_estimators = 100)\n",
    "gbt.fit(X_train, y_train)\n",
    "\n",
    "err_train = np.mean(y_train != gbt.predict(X_train))\n",
    "err_test = np.mean(y_test != gbt.predict(X_test))\n",
    "\n",
    "print('Ошибка на обучающей выборке: ', err_train)\n",
    "print('Ошибка на тестовой выборке: ', err_test)"
   ]
  },
  {
   "cell_type": "markdown",
   "id": "388c8bdb",
   "metadata": {},
   "source": [
    "**Выводы**\n",
    "\n",
    "        1. Метод главных компонент и балансировка классов не помогли, ошибка на тестовой выборке хоть и стала в среднем меньше, однако лучший результат был достигнут в предыдущей главе. Скорее всего это объясняется тем, что в результате работы PCA были выкинуты важные для классификации признаки (было 20 признаков, о остались всего 11 , т.е. примерно половина от изначальных). Количество главных компонент выбиралось таким образом, чтобы объясненная дисперсия была не меньше 0.85.\n",
    "        2. Несмотря на то, что при применении PCA результаты ухудшились, из выборки были исключены коррелирующие признаки. Вполне возможно, что при переборе гиперпараметров PCA можно добиться гораздо лучших результатов.\n",
    "        3. После применения PCA наименьшая ошибка на тестовой выборке была достигнула классификатором Random Forest и Extremely Randomized Trees.\n",
    "        4. Классификатор Extremely Randomized Trees (n_estimators = 100) оказался лучшим для начальной выборки (рассматривается выборка до балансировки и применения PCA.\n",
    "        5. Классификатор AdaBoost оказался худшим для начальной выборки (рассматривается выборка до балансировки и применения PCA). Но данный метод запускался только один раз и с параметром n_estimators = 100. Предположительно ошибку можно значительно уменьшить, осуществив подбор гиперпараметров."
   ]
  }
 ],
 "metadata": {
  "kernelspec": {
   "display_name": "Python 3 (ipykernel)",
   "language": "python",
   "name": "python3"
  },
  "language_info": {
   "codemirror_mode": {
    "name": "ipython",
    "version": 3
   },
   "file_extension": ".py",
   "mimetype": "text/x-python",
   "name": "python",
   "nbconvert_exporter": "python",
   "pygments_lexer": "ipython3",
   "version": "3.9.7"
  }
 },
 "nbformat": 4,
 "nbformat_minor": 5
}
